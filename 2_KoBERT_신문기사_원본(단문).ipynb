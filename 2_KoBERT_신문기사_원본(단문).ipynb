{
  "cells": [
    {
      "cell_type": "markdown",
      "metadata": {
        "id": "view-in-github",
        "colab_type": "text"
      },
      "source": [
        "<a href=\"https://colab.research.google.com/github/KorStats/topicmodeling/blob/main/2_KoBERT_%EC%8B%A0%EB%AC%B8%EA%B8%B0%EC%82%AC_%EC%9B%90%EB%B3%B8(%EB%8B%A8%EB%AC%B8).ipynb\" target=\"_parent\"><img src=\"https://colab.research.google.com/assets/colab-badge.svg\" alt=\"Open In Colab\"/></a>"
      ]
    },
    {
      "cell_type": "markdown",
      "metadata": {
        "id": "-N-A7MwcOcsP"
      },
      "source": [
        "# 필요 라이브러리 설치"
      ]
    },
    {
      "cell_type": "code",
      "execution_count": null,
      "metadata": {
        "colab": {
          "base_uri": "https://localhost:8080/"
        },
        "id": "a0vJuNUItCB9",
        "outputId": "72e69ace-3102-4371-e241-f33c80232c38"
      },
      "outputs": [
        {
          "output_type": "stream",
          "name": "stdout",
          "text": [
            "Requirement already satisfied: transformers in /usr/local/lib/python3.11/dist-packages (4.47.1)\n",
            "Requirement already satisfied: datasets in /usr/local/lib/python3.11/dist-packages (3.2.0)\n",
            "Requirement already satisfied: accelerate in /usr/local/lib/python3.11/dist-packages (1.2.1)\n",
            "Requirement already satisfied: scikit-learn in /usr/local/lib/python3.11/dist-packages (1.6.1)\n",
            "Requirement already satisfied: optuna in /usr/local/lib/python3.11/dist-packages (4.2.0)\n",
            "Requirement already satisfied: sentencepiece in /usr/local/lib/python3.11/dist-packages (0.2.0)\n",
            "Requirement already satisfied: filelock in /usr/local/lib/python3.11/dist-packages (from transformers) (3.17.0)\n",
            "Requirement already satisfied: huggingface-hub<1.0,>=0.24.0 in /usr/local/lib/python3.11/dist-packages (from transformers) (0.27.1)\n",
            "Requirement already satisfied: numpy>=1.17 in /usr/local/lib/python3.11/dist-packages (from transformers) (1.26.4)\n",
            "Requirement already satisfied: packaging>=20.0 in /usr/local/lib/python3.11/dist-packages (from transformers) (24.2)\n",
            "Requirement already satisfied: pyyaml>=5.1 in /usr/local/lib/python3.11/dist-packages (from transformers) (6.0.2)\n",
            "Requirement already satisfied: regex!=2019.12.17 in /usr/local/lib/python3.11/dist-packages (from transformers) (2024.11.6)\n",
            "Requirement already satisfied: requests in /usr/local/lib/python3.11/dist-packages (from transformers) (2.32.3)\n",
            "Requirement already satisfied: tokenizers<0.22,>=0.21 in /usr/local/lib/python3.11/dist-packages (from transformers) (0.21.0)\n",
            "Requirement already satisfied: safetensors>=0.4.1 in /usr/local/lib/python3.11/dist-packages (from transformers) (0.5.2)\n",
            "Requirement already satisfied: tqdm>=4.27 in /usr/local/lib/python3.11/dist-packages (from transformers) (4.67.1)\n",
            "Requirement already satisfied: pyarrow>=15.0.0 in /usr/local/lib/python3.11/dist-packages (from datasets) (17.0.0)\n",
            "Requirement already satisfied: dill<0.3.9,>=0.3.0 in /usr/local/lib/python3.11/dist-packages (from datasets) (0.3.8)\n",
            "Requirement already satisfied: pandas in /usr/local/lib/python3.11/dist-packages (from datasets) (2.2.2)\n",
            "Requirement already satisfied: xxhash in /usr/local/lib/python3.11/dist-packages (from datasets) (3.5.0)\n",
            "Requirement already satisfied: multiprocess<0.70.17 in /usr/local/lib/python3.11/dist-packages (from datasets) (0.70.16)\n",
            "Requirement already satisfied: fsspec<=2024.9.0,>=2023.1.0 in /usr/local/lib/python3.11/dist-packages (from fsspec[http]<=2024.9.0,>=2023.1.0->datasets) (2024.9.0)\n",
            "Requirement already satisfied: aiohttp in /usr/local/lib/python3.11/dist-packages (from datasets) (3.11.11)\n",
            "Requirement already satisfied: psutil in /usr/local/lib/python3.11/dist-packages (from accelerate) (5.9.5)\n",
            "Requirement already satisfied: torch>=1.10.0 in /usr/local/lib/python3.11/dist-packages (from accelerate) (2.5.1+cu121)\n",
            "Requirement already satisfied: scipy>=1.6.0 in /usr/local/lib/python3.11/dist-packages (from scikit-learn) (1.13.1)\n",
            "Requirement already satisfied: joblib>=1.2.0 in /usr/local/lib/python3.11/dist-packages (from scikit-learn) (1.4.2)\n",
            "Requirement already satisfied: threadpoolctl>=3.1.0 in /usr/local/lib/python3.11/dist-packages (from scikit-learn) (3.5.0)\n",
            "Requirement already satisfied: alembic>=1.5.0 in /usr/local/lib/python3.11/dist-packages (from optuna) (1.14.1)\n",
            "Requirement already satisfied: colorlog in /usr/local/lib/python3.11/dist-packages (from optuna) (6.9.0)\n",
            "Requirement already satisfied: sqlalchemy>=1.4.2 in /usr/local/lib/python3.11/dist-packages (from optuna) (2.0.37)\n",
            "Requirement already satisfied: Mako in /usr/local/lib/python3.11/dist-packages (from alembic>=1.5.0->optuna) (1.3.8)\n",
            "Requirement already satisfied: typing-extensions>=4 in /usr/local/lib/python3.11/dist-packages (from alembic>=1.5.0->optuna) (4.12.2)\n",
            "Requirement already satisfied: aiohappyeyeballs>=2.3.0 in /usr/local/lib/python3.11/dist-packages (from aiohttp->datasets) (2.4.4)\n",
            "Requirement already satisfied: aiosignal>=1.1.2 in /usr/local/lib/python3.11/dist-packages (from aiohttp->datasets) (1.3.2)\n",
            "Requirement already satisfied: attrs>=17.3.0 in /usr/local/lib/python3.11/dist-packages (from aiohttp->datasets) (24.3.0)\n",
            "Requirement already satisfied: frozenlist>=1.1.1 in /usr/local/lib/python3.11/dist-packages (from aiohttp->datasets) (1.5.0)\n",
            "Requirement already satisfied: multidict<7.0,>=4.5 in /usr/local/lib/python3.11/dist-packages (from aiohttp->datasets) (6.1.0)\n",
            "Requirement already satisfied: propcache>=0.2.0 in /usr/local/lib/python3.11/dist-packages (from aiohttp->datasets) (0.2.1)\n",
            "Requirement already satisfied: yarl<2.0,>=1.17.0 in /usr/local/lib/python3.11/dist-packages (from aiohttp->datasets) (1.18.3)\n",
            "Requirement already satisfied: charset-normalizer<4,>=2 in /usr/local/lib/python3.11/dist-packages (from requests->transformers) (3.4.1)\n",
            "Requirement already satisfied: idna<4,>=2.5 in /usr/local/lib/python3.11/dist-packages (from requests->transformers) (3.10)\n",
            "Requirement already satisfied: urllib3<3,>=1.21.1 in /usr/local/lib/python3.11/dist-packages (from requests->transformers) (2.3.0)\n",
            "Requirement already satisfied: certifi>=2017.4.17 in /usr/local/lib/python3.11/dist-packages (from requests->transformers) (2024.12.14)\n",
            "Requirement already satisfied: greenlet!=0.4.17 in /usr/local/lib/python3.11/dist-packages (from sqlalchemy>=1.4.2->optuna) (3.1.1)\n",
            "Requirement already satisfied: networkx in /usr/local/lib/python3.11/dist-packages (from torch>=1.10.0->accelerate) (3.4.2)\n",
            "Requirement already satisfied: jinja2 in /usr/local/lib/python3.11/dist-packages (from torch>=1.10.0->accelerate) (3.1.5)\n",
            "Requirement already satisfied: nvidia-cuda-nvrtc-cu12==12.1.105 in /usr/local/lib/python3.11/dist-packages (from torch>=1.10.0->accelerate) (12.1.105)\n",
            "Requirement already satisfied: nvidia-cuda-runtime-cu12==12.1.105 in /usr/local/lib/python3.11/dist-packages (from torch>=1.10.0->accelerate) (12.1.105)\n",
            "Requirement already satisfied: nvidia-cuda-cupti-cu12==12.1.105 in /usr/local/lib/python3.11/dist-packages (from torch>=1.10.0->accelerate) (12.1.105)\n",
            "Requirement already satisfied: nvidia-cudnn-cu12==9.1.0.70 in /usr/local/lib/python3.11/dist-packages (from torch>=1.10.0->accelerate) (9.1.0.70)\n",
            "Requirement already satisfied: nvidia-cublas-cu12==12.1.3.1 in /usr/local/lib/python3.11/dist-packages (from torch>=1.10.0->accelerate) (12.1.3.1)\n",
            "Requirement already satisfied: nvidia-cufft-cu12==11.0.2.54 in /usr/local/lib/python3.11/dist-packages (from torch>=1.10.0->accelerate) (11.0.2.54)\n",
            "Requirement already satisfied: nvidia-curand-cu12==10.3.2.106 in /usr/local/lib/python3.11/dist-packages (from torch>=1.10.0->accelerate) (10.3.2.106)\n",
            "Requirement already satisfied: nvidia-cusolver-cu12==11.4.5.107 in /usr/local/lib/python3.11/dist-packages (from torch>=1.10.0->accelerate) (11.4.5.107)\n",
            "Requirement already satisfied: nvidia-cusparse-cu12==12.1.0.106 in /usr/local/lib/python3.11/dist-packages (from torch>=1.10.0->accelerate) (12.1.0.106)\n",
            "Requirement already satisfied: nvidia-nccl-cu12==2.21.5 in /usr/local/lib/python3.11/dist-packages (from torch>=1.10.0->accelerate) (2.21.5)\n",
            "Requirement already satisfied: nvidia-nvtx-cu12==12.1.105 in /usr/local/lib/python3.11/dist-packages (from torch>=1.10.0->accelerate) (12.1.105)\n",
            "Requirement already satisfied: triton==3.1.0 in /usr/local/lib/python3.11/dist-packages (from torch>=1.10.0->accelerate) (3.1.0)\n",
            "Requirement already satisfied: sympy==1.13.1 in /usr/local/lib/python3.11/dist-packages (from torch>=1.10.0->accelerate) (1.13.1)\n",
            "Requirement already satisfied: nvidia-nvjitlink-cu12 in /usr/local/lib/python3.11/dist-packages (from nvidia-cusolver-cu12==11.4.5.107->torch>=1.10.0->accelerate) (12.6.85)\n",
            "Requirement already satisfied: mpmath<1.4,>=1.1.0 in /usr/local/lib/python3.11/dist-packages (from sympy==1.13.1->torch>=1.10.0->accelerate) (1.3.0)\n",
            "Requirement already satisfied: python-dateutil>=2.8.2 in /usr/local/lib/python3.11/dist-packages (from pandas->datasets) (2.8.2)\n",
            "Requirement already satisfied: pytz>=2020.1 in /usr/local/lib/python3.11/dist-packages (from pandas->datasets) (2024.2)\n",
            "Requirement already satisfied: tzdata>=2022.7 in /usr/local/lib/python3.11/dist-packages (from pandas->datasets) (2025.1)\n",
            "Requirement already satisfied: six>=1.5 in /usr/local/lib/python3.11/dist-packages (from python-dateutil>=2.8.2->pandas->datasets) (1.17.0)\n",
            "Requirement already satisfied: MarkupSafe>=2.0 in /usr/local/lib/python3.11/dist-packages (from jinja2->torch>=1.10.0->accelerate) (3.0.2)\n"
          ]
        }
      ],
      "source": [
        "!pip install transformers datasets accelerate scikit-learn optuna sentencepiece"
      ]
    },
    {
      "cell_type": "code",
      "execution_count": null,
      "metadata": {
        "colab": {
          "base_uri": "https://localhost:8080/"
        },
        "id": "9UuSc7gitCEg",
        "outputId": "48b7f742-d663-42e0-c055-e0662cd91374"
      },
      "outputs": [
        {
          "output_type": "stream",
          "name": "stdout",
          "text": [
            "Requirement already satisfied: transformers in /usr/local/lib/python3.11/dist-packages (4.47.1)\n",
            "Requirement already satisfied: filelock in /usr/local/lib/python3.11/dist-packages (from transformers) (3.17.0)\n",
            "Requirement already satisfied: huggingface-hub<1.0,>=0.24.0 in /usr/local/lib/python3.11/dist-packages (from transformers) (0.27.1)\n",
            "Requirement already satisfied: numpy>=1.17 in /usr/local/lib/python3.11/dist-packages (from transformers) (1.26.4)\n",
            "Requirement already satisfied: packaging>=20.0 in /usr/local/lib/python3.11/dist-packages (from transformers) (24.2)\n",
            "Requirement already satisfied: pyyaml>=5.1 in /usr/local/lib/python3.11/dist-packages (from transformers) (6.0.2)\n",
            "Requirement already satisfied: regex!=2019.12.17 in /usr/local/lib/python3.11/dist-packages (from transformers) (2024.11.6)\n",
            "Requirement already satisfied: requests in /usr/local/lib/python3.11/dist-packages (from transformers) (2.32.3)\n",
            "Requirement already satisfied: tokenizers<0.22,>=0.21 in /usr/local/lib/python3.11/dist-packages (from transformers) (0.21.0)\n",
            "Requirement already satisfied: safetensors>=0.4.1 in /usr/local/lib/python3.11/dist-packages (from transformers) (0.5.2)\n",
            "Requirement already satisfied: tqdm>=4.27 in /usr/local/lib/python3.11/dist-packages (from transformers) (4.67.1)\n",
            "Requirement already satisfied: fsspec>=2023.5.0 in /usr/local/lib/python3.11/dist-packages (from huggingface-hub<1.0,>=0.24.0->transformers) (2024.9.0)\n",
            "Requirement already satisfied: typing-extensions>=3.7.4.3 in /usr/local/lib/python3.11/dist-packages (from huggingface-hub<1.0,>=0.24.0->transformers) (4.12.2)\n",
            "Requirement already satisfied: charset-normalizer<4,>=2 in /usr/local/lib/python3.11/dist-packages (from requests->transformers) (3.4.1)\n",
            "Requirement already satisfied: idna<4,>=2.5 in /usr/local/lib/python3.11/dist-packages (from requests->transformers) (3.10)\n",
            "Requirement already satisfied: urllib3<3,>=1.21.1 in /usr/local/lib/python3.11/dist-packages (from requests->transformers) (2.3.0)\n",
            "Requirement already satisfied: certifi>=2017.4.17 in /usr/local/lib/python3.11/dist-packages (from requests->transformers) (2024.12.14)\n"
          ]
        }
      ],
      "source": [
        "!pip install transformers"
      ]
    },
    {
      "cell_type": "code",
      "execution_count": null,
      "metadata": {
        "id": "Bu9tYO-1tCG8"
      },
      "outputs": [],
      "source": [
        "\n",
        "import pandas as pd\n",
        "import numpy as np\n",
        "from sklearn.metrics import f1_score, classification_report\n",
        "from sklearn.preprocessing import LabelEncoder\n",
        "from transformers import AutoTokenizer, AutoModelForSequenceClassification, Trainer, TrainingArguments\n",
        "from datasets import Dataset, DatasetDict\n",
        "import torch\n",
        "import optuna\n",
        "from sklearn.model_selection import train_test_split\n",
        "from tqdm import tqdm\n",
        "import re\n",
        "import platform\n",
        "import transformers\n",
        "import joblib"
      ]
    },
    {
      "cell_type": "code",
      "execution_count": null,
      "metadata": {
        "colab": {
          "base_uri": "https://localhost:8080/"
        },
        "id": "X85nlgr8tCJ3",
        "outputId": "921d5753-ee2e-4da1-aed6-07c058ad6579"
      },
      "outputs": [
        {
          "output_type": "stream",
          "name": "stdout",
          "text": [
            "Using device: cuda\n"
          ]
        }
      ],
      "source": [
        "# GPU 사용 여부 확인\n",
        "device = torch.device('cuda' if torch.cuda.is_available() else 'cpu')\n",
        "print(f\"Using device: {device}\")"
      ]
    },
    {
      "cell_type": "markdown",
      "metadata": {
        "id": "OGZuRT8kOgPU"
      },
      "source": [
        "# 사용할 데이터"
      ]
    },
    {
      "cell_type": "code",
      "execution_count": null,
      "metadata": {
        "colab": {
          "base_uri": "https://localhost:8080/"
        },
        "id": "zXmdAt8rMq1j",
        "outputId": "7efc628f-479b-49be-a359-1fd26b27f222"
      },
      "outputs": [
        {
          "output_type": "stream",
          "name": "stdout",
          "text": [
            "Drive already mounted at /content/gdrive; to attempt to forcibly remount, call drive.mount(\"/content/gdrive\", force_remount=True).\n",
            "ln: failed to create symbolic link '/mydrive/My Drive': File exists\n",
            "'Colab Notebooks'   법률_train_original.csv   신문기사_train_original.csv   이전\n",
            "'My Drive'\t    법률_valid_original.csv   신문기사_valid_original.csv   졸업논문\n"
          ]
        }
      ],
      "source": [
        "from google.colab import drive\n",
        "drive.mount('/content/gdrive')\n",
        "!ln -s /content/gdrive/My\\ Drive/ /mydrive\n",
        "!ls /mydrive"
      ]
    },
    {
      "cell_type": "code",
      "source": [
        "import pandas as pd\n",
        "df=pd.read_csv('/content/gdrive/MyDrive/졸업논문/DATA/신문기사_단문.csv', encoding='utf-8-sig')"
      ],
      "metadata": {
        "id": "9YdRD11c4eRW"
      },
      "execution_count": null,
      "outputs": []
    },
    {
      "cell_type": "code",
      "source": [
        "df['category'].value_counts()"
      ],
      "metadata": {
        "colab": {
          "base_uri": "https://localhost:8080/",
          "height": 335
        },
        "id": "Zjh9v_ChWGaX",
        "outputId": "b85e9e52-cad0-4d86-abcb-13ac194eeb9c"
      },
      "execution_count": null,
      "outputs": [
        {
          "output_type": "execute_result",
          "data": {
            "text/plain": [
              "category\n",
              "종합           4000\n",
              "경제           2000\n",
              "사회           2000\n",
              "정치           2000\n",
              "스포츠          1000\n",
              "IT,과학         500\n",
              "교육/입시/NIE     500\n",
              "Name: count, dtype: int64"
            ],
            "text/html": [
              "<div>\n",
              "<style scoped>\n",
              "    .dataframe tbody tr th:only-of-type {\n",
              "        vertical-align: middle;\n",
              "    }\n",
              "\n",
              "    .dataframe tbody tr th {\n",
              "        vertical-align: top;\n",
              "    }\n",
              "\n",
              "    .dataframe thead th {\n",
              "        text-align: right;\n",
              "    }\n",
              "</style>\n",
              "<table border=\"1\" class=\"dataframe\">\n",
              "  <thead>\n",
              "    <tr style=\"text-align: right;\">\n",
              "      <th></th>\n",
              "      <th>count</th>\n",
              "    </tr>\n",
              "    <tr>\n",
              "      <th>category</th>\n",
              "      <th></th>\n",
              "    </tr>\n",
              "  </thead>\n",
              "  <tbody>\n",
              "    <tr>\n",
              "      <th>종합</th>\n",
              "      <td>4000</td>\n",
              "    </tr>\n",
              "    <tr>\n",
              "      <th>경제</th>\n",
              "      <td>2000</td>\n",
              "    </tr>\n",
              "    <tr>\n",
              "      <th>사회</th>\n",
              "      <td>2000</td>\n",
              "    </tr>\n",
              "    <tr>\n",
              "      <th>정치</th>\n",
              "      <td>2000</td>\n",
              "    </tr>\n",
              "    <tr>\n",
              "      <th>스포츠</th>\n",
              "      <td>1000</td>\n",
              "    </tr>\n",
              "    <tr>\n",
              "      <th>IT,과학</th>\n",
              "      <td>500</td>\n",
              "    </tr>\n",
              "    <tr>\n",
              "      <th>교육/입시/NIE</th>\n",
              "      <td>500</td>\n",
              "    </tr>\n",
              "  </tbody>\n",
              "</table>\n",
              "</div><br><label><b>dtype:</b> int64</label>"
            ]
          },
          "metadata": {},
          "execution_count": 25
        }
      ]
    },
    {
      "cell_type": "code",
      "execution_count": null,
      "metadata": {
        "id": "vHXx-eDPMq3r"
      },
      "outputs": [],
      "source": [
        "data_list = []\n",
        "for q, label in zip(df['text'], df['category'])  :\n",
        "    data = []\n",
        "    data.append(q)\n",
        "    data.append(str(label))\n",
        "    data_list.append(data)\n",
        "\n",
        "from sklearn.model_selection import train_test_split\n",
        "dataset_train, dataset_test = train_test_split(data_list, test_size=0.25, random_state=0, shuffle=True)\n",
        "\n",
        "train=pd.DataFrame(dataset_train)\n",
        "test=pd.DataFrame(dataset_test)\n",
        "\n",
        "train.rename(columns = {0 : 'text', 1 : 'category'}, inplace = True)\n",
        "test.rename(columns = {0 : 'text', 1 : 'category'}, inplace = True)"
      ]
    },
    {
      "cell_type": "code",
      "source": [
        "train.shape"
      ],
      "metadata": {
        "colab": {
          "base_uri": "https://localhost:8080/"
        },
        "id": "u6RjbkzowBIc",
        "outputId": "3dd5c615-2547-461d-f9ef-5a2f53f6f668"
      },
      "execution_count": null,
      "outputs": [
        {
          "output_type": "execute_result",
          "data": {
            "text/plain": [
              "(9000, 2)"
            ]
          },
          "metadata": {},
          "execution_count": 27
        }
      ]
    },
    {
      "cell_type": "code",
      "source": [
        "test.shape"
      ],
      "metadata": {
        "id": "g6ML3i2ywH_L",
        "outputId": "9f59f797-2a90-43ac-e0c8-7a52106b9925",
        "colab": {
          "base_uri": "https://localhost:8080/"
        }
      },
      "execution_count": null,
      "outputs": [
        {
          "output_type": "execute_result",
          "data": {
            "text/plain": [
              "(3000, 2)"
            ]
          },
          "metadata": {},
          "execution_count": 28
        }
      ]
    },
    {
      "cell_type": "markdown",
      "source": [
        "# 데이터 정제"
      ],
      "metadata": {
        "id": "f54sa-d7Bv1c"
      }
    },
    {
      "cell_type": "code",
      "source": [
        "def clean_korean_documents(documents):\n",
        "    # 텍스트 정제 (특수기호만 제거)\n",
        "    for i, document in tqdm(enumerate(documents), total=len(documents), desc=\"Cleaning Special Characters\"):\n",
        "        document = re.sub(r'[^\\w\\sㄱ-ㅣ가-힣]', '', document)  # 특수기호만 제거, 정규 표현식\n",
        "        documents[i] = document\n",
        "    return documents\n",
        "\n",
        "def remove_words_with_numbers(text):\n",
        "    return ' '.join([word for word in text.split(',') if not re.search(r'\\d', word)])\n",
        "\n",
        "# 한글이 아닌 문자를 제거하는 함수\n",
        "def remove_non_korean(text):\n",
        "    return re.sub(r'[^ㄱ-ㅣ가-힣\\s]', '', text)"
      ],
      "metadata": {
        "id": "0CK1f_TtBxHb"
      },
      "execution_count": null,
      "outputs": []
    },
    {
      "cell_type": "code",
      "source": [
        "train['text'] = clean_korean_documents(train['text'])\n",
        "train['text'] = train['text'].apply(lambda x: ','.join(x.split()))\n",
        "train['text'] = train['text'].apply(remove_words_with_numbers)\n",
        "train['text'] = train['text'].apply(remove_non_korean)\n",
        "\n",
        "test['text'] = clean_korean_documents(test['text'])\n",
        "test['text'] = test['text'].apply(lambda x: ','.join(x.split()))\n",
        "test['text'] = test['text'].apply(remove_words_with_numbers)\n",
        "test['text'] = test['text'].apply(remove_non_korean)\n"
      ],
      "metadata": {
        "id": "Ino4rJbhBxKN",
        "colab": {
          "base_uri": "https://localhost:8080/"
        },
        "outputId": "b3359fed-19a2-4fed-da7a-09d1c084bfcf"
      },
      "execution_count": null,
      "outputs": [
        {
          "output_type": "stream",
          "name": "stderr",
          "text": [
            "Cleaning Special Characters: 100%|██████████| 9000/9000 [00:06<00:00, 1405.79it/s]\n",
            "Cleaning Special Characters: 100%|██████████| 3000/3000 [00:01<00:00, 1782.98it/s]\n"
          ]
        }
      ]
    },
    {
      "cell_type": "code",
      "source": [
        "# 3. 학습 데이터와 테스트 데이터에서 필요한 열 추출 및 라벨 인코딩\n",
        "X_train = train['text']\n",
        "y_train = train['category']\n",
        "X_test = test['text']\n",
        "y_test=test['category']\n",
        "\n",
        "# 4. 라벨 인코딩\n",
        "label_encoder = LabelEncoder()\n",
        "y_train_encoded = label_encoder.fit_transform(y_train)\n",
        "y_test_encoded=label_encoder.fit_transform(y_test)\n",
        "num_labels = len(label_encoder.classes_)"
      ],
      "metadata": {
        "id": "aHxqlpsaM24j"
      },
      "execution_count": null,
      "outputs": []
    },
    {
      "cell_type": "code",
      "source": [],
      "metadata": {
        "id": "9oxz8d7tM27M"
      },
      "execution_count": null,
      "outputs": []
    },
    {
      "cell_type": "markdown",
      "source": [
        "# KoBERT"
      ],
      "metadata": {
        "id": "x4pheo8pOl6o"
      }
    },
    {
      "cell_type": "code",
      "execution_count": null,
      "metadata": {
        "id": "p52WNaz8vR7V"
      },
      "outputs": [],
      "source": [
        "# 5. KoBERT 모델을 위한 토크나이저 및 데이터셋 생성\n",
        "model_name = 'monologg/kobert'\n",
        "tokenizer = AutoTokenizer.from_pretrained(model_name, trust_remote_code=True)"
      ]
    },
    {
      "cell_type": "code",
      "execution_count": null,
      "metadata": {
        "id": "D5Cho8q4vgyI"
      },
      "outputs": [],
      "source": [
        "# 텍스트를 토큰화하는 함수 정의\n",
        "def tokenize_function(examples):\n",
        "    return tokenizer(examples['text'], padding='max_length', truncation=True, max_length=256)"
      ]
    },
    {
      "cell_type": "code",
      "execution_count": null,
      "metadata": {
        "colab": {
          "base_uri": "https://localhost:8080/",
          "height": 81,
          "referenced_widgets": [
            "f7ae66d4512c4b50870f0a1a88445e26",
            "7201d0f2df7c4d5cb367f7197cf300f0",
            "e67be03232494345a2e6c8555e62c905",
            "a1527d7ccae24321a23f659d6ab2efaf",
            "4ae7efe8bea8412889613c70ea0a1001",
            "0e8037e07d4146f09118a6b2643dbba9",
            "cb3f2161921e4d73ae9b59d944e191fc",
            "427a267deb504ed29ecbe1f605fed52e",
            "736a2628cb5b45e1ba03ffd43a103d56",
            "f786765619e24a98b472fd79782c2b9c",
            "cf47c2b99bdd4dd8b1aac99b8d6be321",
            "d59514966cee411385256851a560e057",
            "3dda75eb81ff424fb89eb0912a81c3ea",
            "fca4558083a146fa89aa01f9e39993ac",
            "1ad745bd078946c1b6ec0adbda445df3",
            "942700fce89343a1998f3bf779880f2d",
            "25ea4bf60611415e8308378375d13310",
            "aa33efb53a8f486dbc51b31cb8e65f98",
            "04ebf0c06dd143e1a27318cf79fd82fb",
            "bdd5bb68df4049cbbfb5af3494a8d280",
            "fd552d240bfc4c53aaa504548f73eb41",
            "202237febf5d4d36b13810d01f33c3d4"
          ]
        },
        "id": "--QPnF6Xvg0u",
        "outputId": "9a36aa42-635a-4da1-f34f-718627b97f3d"
      },
      "outputs": [
        {
          "output_type": "display_data",
          "data": {
            "text/plain": [
              "Map:   0%|          | 0/9000 [00:00<?, ? examples/s]"
            ],
            "application/vnd.jupyter.widget-view+json": {
              "version_major": 2,
              "version_minor": 0,
              "model_id": "f7ae66d4512c4b50870f0a1a88445e26"
            }
          },
          "metadata": {}
        },
        {
          "output_type": "display_data",
          "data": {
            "text/plain": [
              "Map:   0%|          | 0/3000 [00:00<?, ? examples/s]"
            ],
            "application/vnd.jupyter.widget-view+json": {
              "version_major": 2,
              "version_minor": 0,
              "model_id": "d59514966cee411385256851a560e057"
            }
          },
          "metadata": {}
        }
      ],
      "source": [
        "# 데이터셋 생성 및 토크나이즈\n",
        "train_df = pd.DataFrame({'text': X_train, 'label': y_train_encoded})\n",
        "test_df = pd.DataFrame({'text': X_test, 'label': y_test_encoded})\n",
        "train_dataset = Dataset.from_pandas(train_df)\n",
        "test_dataset = Dataset.from_pandas(test_df)\n",
        "train_dataset = train_dataset.map(tokenize_function, batched=True)\n",
        "test_dataset = test_dataset.map(tokenize_function, batched=True)"
      ]
    },
    {
      "cell_type": "code",
      "execution_count": null,
      "metadata": {
        "colab": {
          "base_uri": "https://localhost:8080/"
        },
        "id": "ATWJ1JC_vg3x",
        "outputId": "ff79a18e-f63e-4583-cca8-d4ec27246e1d"
      },
      "outputs": [
        {
          "output_type": "stream",
          "name": "stderr",
          "text": [
            "Some weights of BertForSequenceClassification were not initialized from the model checkpoint at monologg/kobert and are newly initialized: ['classifier.bias', 'classifier.weight']\n",
            "You should probably TRAIN this model on a down-stream task to be able to use it for predictions and inference.\n"
          ]
        }
      ],
      "source": [
        "# PyTorch 텐서 형식으로 변환\n",
        "train_dataset.set_format(type='torch', columns=['input_ids', 'attention_mask', 'label'])\n",
        "test_dataset.set_format(type='torch', columns=['input_ids', 'attention_mask', 'label'])\n",
        "\n",
        "# 5. KoBERT 모델 설정 및 학습 파라미터 최적화\n",
        "model = AutoModelForSequenceClassification.from_pretrained(model_name, num_labels=num_labels).to(device)"
      ]
    },
    {
      "cell_type": "markdown",
      "source": [
        "# 최적의 하이퍼파라미터 찾기"
      ],
      "metadata": {
        "id": "DAga9xp4jzOn"
      }
    },
    {
      "cell_type": "code",
      "source": [
        "import optuna\n",
        "from transformers import Trainer, TrainingArguments\n",
        "from sklearn.metrics import f1_score\n",
        "import numpy as np\n",
        "\n",
        "# `compute_metrics` 함수\n",
        "def compute_metrics(eval_pred):\n",
        "    logits, labels = eval_pred\n",
        "    predictions = np.argmax(logits, axis=-1)\n",
        "    f1 = f1_score(labels, predictions, average='macro')  # F1 점수 계산\n",
        "    return {'eval_f1': f1}  # 'eval_f1' 반환\n",
        "\n",
        "# Optuna를 활용한 하이퍼파라미터 튜닝\n",
        "def model_init():\n",
        "    return AutoModelForSequenceClassification.from_pretrained(model_name, num_labels=num_labels)\n",
        "\n",
        "# Objective 함수 정의\n",
        "def objective(trial):\n",
        "    # 하이퍼파라미터 샘플링\n",
        "    learning_rate = trial.suggest_float(\"learning_rate\", 1e-5, 5e-4, log=True)\n",
        "    batch_size = trial.suggest_categorical(\"batch_size\", [16, 32, 64])\n",
        "    weight_decay = trial.suggest_float(\"weight_decay\", 0.0, 0.3)\n",
        "\n",
        "    # TrainingArguments 설정\n",
        "    training_args = TrainingArguments(\n",
        "        output_dir=\"./results\",\n",
        "        evaluation_strategy=\"epoch\",\n",
        "        save_strategy=\"epoch\",\n",
        "        logging_dir=\"./logs\",\n",
        "        logging_steps=10,\n",
        "        per_device_train_batch_size=batch_size,\n",
        "        num_train_epochs=3,\n",
        "        learning_rate=learning_rate,\n",
        "        weight_decay=weight_decay,\n",
        "        load_best_model_at_end=True,\n",
        "        metric_for_best_model=\"eval_f1\",\n",
        "        report_to=\"none\"\n",
        "    )\n",
        "\n",
        "    # Trainer 생성\n",
        "    trainer = Trainer(\n",
        "        model_init=model_init,\n",
        "        args=training_args,\n",
        "        train_dataset=train_dataset,\n",
        "        eval_dataset=test_dataset,\n",
        "        compute_metrics=compute_metrics\n",
        "    )\n",
        "    trainer.train()\n",
        "    eval_result = trainer.evaluate()\n",
        "    return eval_result[\"eval_f1\"]\n",
        "\n",
        "\n",
        "# Optuna 탐색\n",
        "study = optuna.create_study(direction=\"maximize\", sampler=optuna.samplers.TPESampler())\n",
        "study.optimize(objective, n_trials=5)\n",
        "\n",
        "# 최적의 하이퍼파라미터 출력\n",
        "print(\"Best Hyperparameters:\", study.best_params)"
      ],
      "metadata": {
        "id": "OtTcyVa-Ek5B",
        "colab": {
          "base_uri": "https://localhost:8080/",
          "height": 1000
        },
        "outputId": "7d3942c6-182f-4508-ec33-fd63fbba91ed"
      },
      "execution_count": null,
      "outputs": [
        {
          "output_type": "stream",
          "name": "stderr",
          "text": [
            "[I 2025-01-27 02:42:27,921] A new study created in memory with name: no-name-11170838-2946-4569-b392-255063aafe70\n",
            "/usr/local/lib/python3.11/dist-packages/transformers/training_args.py:1575: FutureWarning: `evaluation_strategy` is deprecated and will be removed in version 4.46 of 🤗 Transformers. Use `eval_strategy` instead\n",
            "  warnings.warn(\n",
            "Some weights of BertForSequenceClassification were not initialized from the model checkpoint at monologg/kobert and are newly initialized: ['classifier.bias', 'classifier.weight']\n",
            "You should probably TRAIN this model on a down-stream task to be able to use it for predictions and inference.\n",
            "Some weights of BertForSequenceClassification were not initialized from the model checkpoint at monologg/kobert and are newly initialized: ['classifier.bias', 'classifier.weight']\n",
            "You should probably TRAIN this model on a down-stream task to be able to use it for predictions and inference.\n"
          ]
        },
        {
          "output_type": "display_data",
          "data": {
            "text/plain": [
              "<IPython.core.display.HTML object>"
            ],
            "text/html": [
              "\n",
              "    <div>\n",
              "      \n",
              "      <progress value='846' max='846' style='width:300px; height:20px; vertical-align: middle;'></progress>\n",
              "      [846/846 22:28, Epoch 3/3]\n",
              "    </div>\n",
              "    <table border=\"1\" class=\"dataframe\">\n",
              "  <thead>\n",
              " <tr style=\"text-align: left;\">\n",
              "      <th>Epoch</th>\n",
              "      <th>Training Loss</th>\n",
              "      <th>Validation Loss</th>\n",
              "      <th>F1</th>\n",
              "    </tr>\n",
              "  </thead>\n",
              "  <tbody>\n",
              "    <tr>\n",
              "      <td>1</td>\n",
              "      <td>1.722400</td>\n",
              "      <td>1.749288</td>\n",
              "      <td>0.070352</td>\n",
              "    </tr>\n",
              "    <tr>\n",
              "      <td>2</td>\n",
              "      <td>1.702100</td>\n",
              "      <td>1.742735</td>\n",
              "      <td>0.070352</td>\n",
              "    </tr>\n",
              "    <tr>\n",
              "      <td>3</td>\n",
              "      <td>1.810200</td>\n",
              "      <td>1.741097</td>\n",
              "      <td>0.070352</td>\n",
              "    </tr>\n",
              "  </tbody>\n",
              "</table><p>"
            ]
          },
          "metadata": {}
        },
        {
          "output_type": "display_data",
          "data": {
            "text/plain": [
              "<IPython.core.display.HTML object>"
            ],
            "text/html": [
              "\n",
              "    <div>\n",
              "      \n",
              "      <progress value='375' max='375' style='width:300px; height:20px; vertical-align: middle;'></progress>\n",
              "      [375/375 00:43]\n",
              "    </div>\n",
              "    "
            ]
          },
          "metadata": {}
        },
        {
          "output_type": "stream",
          "name": "stderr",
          "text": [
            "[I 2025-01-27 03:05:44,098] Trial 0 finished with value: 0.07035175879396985 and parameters: {'learning_rate': 0.0001905984058999072, 'batch_size': 32, 'weight_decay': 0.25850430647724326}. Best is trial 0 with value: 0.07035175879396985.\n",
            "/usr/local/lib/python3.11/dist-packages/transformers/training_args.py:1575: FutureWarning: `evaluation_strategy` is deprecated and will be removed in version 4.46 of 🤗 Transformers. Use `eval_strategy` instead\n",
            "  warnings.warn(\n",
            "Some weights of BertForSequenceClassification were not initialized from the model checkpoint at monologg/kobert and are newly initialized: ['classifier.bias', 'classifier.weight']\n",
            "You should probably TRAIN this model on a down-stream task to be able to use it for predictions and inference.\n",
            "Some weights of BertForSequenceClassification were not initialized from the model checkpoint at monologg/kobert and are newly initialized: ['classifier.bias', 'classifier.weight']\n",
            "You should probably TRAIN this model on a down-stream task to be able to use it for predictions and inference.\n"
          ]
        },
        {
          "output_type": "display_data",
          "data": {
            "text/plain": [
              "<IPython.core.display.HTML object>"
            ],
            "text/html": [
              "\n",
              "    <div>\n",
              "      \n",
              "      <progress value='423' max='423' style='width:300px; height:20px; vertical-align: middle;'></progress>\n",
              "      [423/423 22:56, Epoch 3/3]\n",
              "    </div>\n",
              "    <table border=\"1\" class=\"dataframe\">\n",
              "  <thead>\n",
              " <tr style=\"text-align: left;\">\n",
              "      <th>Epoch</th>\n",
              "      <th>Training Loss</th>\n",
              "      <th>Validation Loss</th>\n",
              "      <th>F1</th>\n",
              "    </tr>\n",
              "  </thead>\n",
              "  <tbody>\n",
              "    <tr>\n",
              "      <td>1</td>\n",
              "      <td>0.981800</td>\n",
              "      <td>0.950967</td>\n",
              "      <td>0.645427</td>\n",
              "    </tr>\n",
              "    <tr>\n",
              "      <td>2</td>\n",
              "      <td>0.748000</td>\n",
              "      <td>0.801380</td>\n",
              "      <td>0.711705</td>\n",
              "    </tr>\n",
              "    <tr>\n",
              "      <td>3</td>\n",
              "      <td>0.534700</td>\n",
              "      <td>0.765764</td>\n",
              "      <td>0.723614</td>\n",
              "    </tr>\n",
              "  </tbody>\n",
              "</table><p>"
            ]
          },
          "metadata": {}
        },
        {
          "output_type": "display_data",
          "data": {
            "text/plain": [
              "<IPython.core.display.HTML object>"
            ],
            "text/html": [
              "\n",
              "    <div>\n",
              "      \n",
              "      <progress value='375' max='375' style='width:300px; height:20px; vertical-align: middle;'></progress>\n",
              "      [375/375 00:45]\n",
              "    </div>\n",
              "    "
            ]
          },
          "metadata": {}
        },
        {
          "output_type": "stream",
          "name": "stderr",
          "text": [
            "[I 2025-01-27 03:29:30,968] Trial 1 finished with value: 0.7236141341015828 and parameters: {'learning_rate': 5.962275064510067e-05, 'batch_size': 64, 'weight_decay': 0.05499685060385599}. Best is trial 1 with value: 0.7236141341015828.\n",
            "/usr/local/lib/python3.11/dist-packages/transformers/training_args.py:1575: FutureWarning: `evaluation_strategy` is deprecated and will be removed in version 4.46 of 🤗 Transformers. Use `eval_strategy` instead\n",
            "  warnings.warn(\n",
            "Some weights of BertForSequenceClassification were not initialized from the model checkpoint at monologg/kobert and are newly initialized: ['classifier.bias', 'classifier.weight']\n",
            "You should probably TRAIN this model on a down-stream task to be able to use it for predictions and inference.\n",
            "Some weights of BertForSequenceClassification were not initialized from the model checkpoint at monologg/kobert and are newly initialized: ['classifier.bias', 'classifier.weight']\n",
            "You should probably TRAIN this model on a down-stream task to be able to use it for predictions and inference.\n"
          ]
        },
        {
          "output_type": "display_data",
          "data": {
            "text/plain": [
              "<IPython.core.display.HTML object>"
            ],
            "text/html": [
              "\n",
              "    <div>\n",
              "      \n",
              "      <progress value='423' max='423' style='width:300px; height:20px; vertical-align: middle;'></progress>\n",
              "      [423/423 24:20, Epoch 3/3]\n",
              "    </div>\n",
              "    <table border=\"1\" class=\"dataframe\">\n",
              "  <thead>\n",
              " <tr style=\"text-align: left;\">\n",
              "      <th>Epoch</th>\n",
              "      <th>Training Loss</th>\n",
              "      <th>Validation Loss</th>\n",
              "      <th>F1</th>\n",
              "    </tr>\n",
              "  </thead>\n",
              "  <tbody>\n",
              "    <tr>\n",
              "      <td>1</td>\n",
              "      <td>1.042000</td>\n",
              "      <td>1.011865</td>\n",
              "      <td>0.574509</td>\n",
              "    </tr>\n",
              "    <tr>\n",
              "      <td>2</td>\n",
              "      <td>0.821300</td>\n",
              "      <td>0.885653</td>\n",
              "      <td>0.676633</td>\n",
              "    </tr>\n",
              "    <tr>\n",
              "      <td>3</td>\n",
              "      <td>0.708200</td>\n",
              "      <td>0.841131</td>\n",
              "      <td>0.691869</td>\n",
              "    </tr>\n",
              "  </tbody>\n",
              "</table><p>"
            ]
          },
          "metadata": {}
        },
        {
          "output_type": "display_data",
          "data": {
            "text/plain": [
              "<IPython.core.display.HTML object>"
            ],
            "text/html": [
              "\n",
              "    <div>\n",
              "      \n",
              "      <progress value='375' max='375' style='width:300px; height:20px; vertical-align: middle;'></progress>\n",
              "      [375/375 00:45]\n",
              "    </div>\n",
              "    "
            ]
          },
          "metadata": {}
        },
        {
          "output_type": "stream",
          "name": "stderr",
          "text": [
            "[I 2025-01-27 03:54:40,549] Trial 2 finished with value: 0.6918691957334905 and parameters: {'learning_rate': 2.9347225575015558e-05, 'batch_size': 64, 'weight_decay': 0.109238070021763}. Best is trial 1 with value: 0.7236141341015828.\n",
            "/usr/local/lib/python3.11/dist-packages/transformers/training_args.py:1575: FutureWarning: `evaluation_strategy` is deprecated and will be removed in version 4.46 of 🤗 Transformers. Use `eval_strategy` instead\n",
            "  warnings.warn(\n",
            "Some weights of BertForSequenceClassification were not initialized from the model checkpoint at monologg/kobert and are newly initialized: ['classifier.bias', 'classifier.weight']\n",
            "You should probably TRAIN this model on a down-stream task to be able to use it for predictions and inference.\n",
            "Some weights of BertForSequenceClassification were not initialized from the model checkpoint at monologg/kobert and are newly initialized: ['classifier.bias', 'classifier.weight']\n",
            "You should probably TRAIN this model on a down-stream task to be able to use it for predictions and inference.\n"
          ]
        },
        {
          "output_type": "display_data",
          "data": {
            "text/plain": [
              "<IPython.core.display.HTML object>"
            ],
            "text/html": [
              "\n",
              "    <div>\n",
              "      \n",
              "      <progress value='1689' max='1689' style='width:300px; height:20px; vertical-align: middle;'></progress>\n",
              "      [1689/1689 23:52, Epoch 3/3]\n",
              "    </div>\n",
              "    <table border=\"1\" class=\"dataframe\">\n",
              "  <thead>\n",
              " <tr style=\"text-align: left;\">\n",
              "      <th>Epoch</th>\n",
              "      <th>Training Loss</th>\n",
              "      <th>Validation Loss</th>\n",
              "      <th>F1</th>\n",
              "    </tr>\n",
              "  </thead>\n",
              "  <tbody>\n",
              "    <tr>\n",
              "      <td>1</td>\n",
              "      <td>0.800100</td>\n",
              "      <td>0.908711</td>\n",
              "      <td>0.661578</td>\n",
              "    </tr>\n",
              "    <tr>\n",
              "      <td>2</td>\n",
              "      <td>0.778800</td>\n",
              "      <td>0.753752</td>\n",
              "      <td>0.727797</td>\n",
              "    </tr>\n",
              "    <tr>\n",
              "      <td>3</td>\n",
              "      <td>0.403700</td>\n",
              "      <td>0.738188</td>\n",
              "      <td>0.742859</td>\n",
              "    </tr>\n",
              "  </tbody>\n",
              "</table><p>"
            ]
          },
          "metadata": {}
        },
        {
          "output_type": "display_data",
          "data": {
            "text/plain": [
              "<IPython.core.display.HTML object>"
            ],
            "text/html": [
              "\n",
              "    <div>\n",
              "      \n",
              "      <progress value='375' max='375' style='width:300px; height:20px; vertical-align: middle;'></progress>\n",
              "      [375/375 00:45]\n",
              "    </div>\n",
              "    "
            ]
          },
          "metadata": {}
        },
        {
          "output_type": "stream",
          "name": "stderr",
          "text": [
            "[I 2025-01-27 04:19:20,824] Trial 3 finished with value: 0.7428586799466663 and parameters: {'learning_rate': 4.33035913885986e-05, 'batch_size': 16, 'weight_decay': 0.02274003262981744}. Best is trial 3 with value: 0.7428586799466663.\n",
            "/usr/local/lib/python3.11/dist-packages/transformers/training_args.py:1575: FutureWarning: `evaluation_strategy` is deprecated and will be removed in version 4.46 of 🤗 Transformers. Use `eval_strategy` instead\n",
            "  warnings.warn(\n",
            "Some weights of BertForSequenceClassification were not initialized from the model checkpoint at monologg/kobert and are newly initialized: ['classifier.bias', 'classifier.weight']\n",
            "You should probably TRAIN this model on a down-stream task to be able to use it for predictions and inference.\n",
            "Some weights of BertForSequenceClassification were not initialized from the model checkpoint at monologg/kobert and are newly initialized: ['classifier.bias', 'classifier.weight']\n",
            "You should probably TRAIN this model on a down-stream task to be able to use it for predictions and inference.\n"
          ]
        },
        {
          "output_type": "display_data",
          "data": {
            "text/plain": [
              "<IPython.core.display.HTML object>"
            ],
            "text/html": [
              "\n",
              "    <div>\n",
              "      \n",
              "      <progress value='423' max='423' style='width:300px; height:20px; vertical-align: middle;'></progress>\n",
              "      [423/423 24:30, Epoch 3/3]\n",
              "    </div>\n",
              "    <table border=\"1\" class=\"dataframe\">\n",
              "  <thead>\n",
              " <tr style=\"text-align: left;\">\n",
              "      <th>Epoch</th>\n",
              "      <th>Training Loss</th>\n",
              "      <th>Validation Loss</th>\n",
              "      <th>F1</th>\n",
              "    </tr>\n",
              "  </thead>\n",
              "  <tbody>\n",
              "    <tr>\n",
              "      <td>1</td>\n",
              "      <td>1.120800</td>\n",
              "      <td>1.109729</td>\n",
              "      <td>0.494150</td>\n",
              "    </tr>\n",
              "    <tr>\n",
              "      <td>2</td>\n",
              "      <td>0.890400</td>\n",
              "      <td>0.933711</td>\n",
              "      <td>0.644284</td>\n",
              "    </tr>\n",
              "    <tr>\n",
              "      <td>3</td>\n",
              "      <td>0.812700</td>\n",
              "      <td>0.912761</td>\n",
              "      <td>0.646775</td>\n",
              "    </tr>\n",
              "  </tbody>\n",
              "</table><p>"
            ]
          },
          "metadata": {}
        },
        {
          "output_type": "display_data",
          "data": {
            "text/plain": [
              "<IPython.core.display.HTML object>"
            ],
            "text/html": [
              "\n",
              "    <div>\n",
              "      \n",
              "      <progress value='375' max='375' style='width:300px; height:20px; vertical-align: middle;'></progress>\n",
              "      [375/375 00:42]\n",
              "    </div>\n",
              "    "
            ]
          },
          "metadata": {}
        },
        {
          "output_type": "stream",
          "name": "stderr",
          "text": [
            "[I 2025-01-27 04:44:38,221] Trial 4 finished with value: 0.6467751404529114 and parameters: {'learning_rate': 2.0762119749142177e-05, 'batch_size': 64, 'weight_decay': 0.03379293050441634}. Best is trial 3 with value: 0.7428586799466663.\n"
          ]
        },
        {
          "output_type": "stream",
          "name": "stdout",
          "text": [
            "Best Hyperparameters: {'learning_rate': 4.33035913885986e-05, 'batch_size': 16, 'weight_decay': 0.02274003262981744}\n"
          ]
        }
      ]
    },
    {
      "cell_type": "markdown",
      "source": [
        "Best Hyperparameters: {'learning_rate': 4.33035913885986e-05, 'batch_size': 16, 'weight_decay': 0.02274003262981744"
      ],
      "metadata": {
        "id": "IrQEXjjEJmPo"
      }
    },
    {
      "cell_type": "code",
      "source": [],
      "metadata": {
        "id": "l2LHME45xapE"
      },
      "execution_count": null,
      "outputs": []
    },
    {
      "cell_type": "markdown",
      "source": [
        "# 최적의 하이퍼파라미터로 재학습"
      ],
      "metadata": {
        "id": "2eDBtcbukDW3"
      }
    },
    {
      "cell_type": "code",
      "execution_count": null,
      "metadata": {
        "id": "HHg-jCJj6Ibw"
      },
      "outputs": [],
      "source": [
        "#CPU 측정\n",
        "\n",
        "import psutil\n",
        "import time\n",
        "from transformers import Trainer, TrainingArguments\n",
        "\n",
        "# CPU 사용량 및 속도 측정 함수\n",
        "def measure_cpu_usage_and_time(train_function):\n",
        "    start_time = time.time()  # 시작 시간 기록\n",
        "    start_cpu = psutil.cpu_percent(interval=None)  # 시작 CPU 사용량\n",
        "\n",
        "    train_function()  # 학습 함수 호출\n",
        "\n",
        "    end_time = time.time()  # 종료 시간 기록\n",
        "    end_cpu = psutil.cpu_percent(interval=None)  # 종료 CPU 사용량\n",
        "\n",
        "    elapsed_time = end_time - start_time\n",
        "    avg_cpu_usage = (start_cpu + end_cpu) / 2\n",
        "\n",
        "    print(f\"Elapsed Time: {elapsed_time:.2f} seconds\")\n",
        "    print(f\"Average CPU Usage: {avg_cpu_usage:.2f}%\")"
      ]
    },
    {
      "cell_type": "code",
      "source": [
        "import optuna\n",
        "from transformers import Trainer, TrainingArguments\n",
        "from sklearn.metrics import f1_score\n",
        "import numpy as np\n",
        "\n",
        "# `compute_metrics` 함수\n",
        "def compute_metrics(eval_pred):\n",
        "    logits, labels = eval_pred\n",
        "    predictions = np.argmax(logits, axis=-1)\n",
        "    f1 = f1_score(labels, predictions, average='macro')  # F1 점수 계산\n",
        "    return {'eval_f1': f1}  # 'eval_f1' 반환\n",
        "\n",
        "# Optuna를 활용한 하이퍼파라미터 튜닝\n",
        "def model_init():\n",
        "    return AutoModelForSequenceClassification.from_pretrained(model_name, num_labels=num_labels)"
      ],
      "metadata": {
        "id": "MXWOeB5NodFe"
      },
      "execution_count": null,
      "outputs": []
    },
    {
      "cell_type": "markdown",
      "source": [
        "Best Hyperparameters: {'learning_rate': 4.33035913885986e-05, 'batch_size': 16, 'weight_decay': 0.02274003262981744"
      ],
      "metadata": {
        "id": "5pEerTue_FG-"
      }
    },
    {
      "cell_type": "code",
      "source": [
        "# 7. 최적의 파라미터로 학습 설정\n",
        "# 최적의 하이퍼파라미터를 찾은 후, training_args를 설정합니다.\n",
        "training_args = TrainingArguments(\n",
        "    output_dir='/content',\n",
        "    num_train_epochs=3,  # 에포크 수 고정\n",
        "    per_device_train_batch_size=16,  # 배치 크기 고정\n",
        "    learning_rate=4.33035913885986e-05,  # 최적화된 학습률\n",
        "    weight_decay=0.02274003262981744,  # 최적화된 weight decay\n",
        "    evaluation_strategy='epoch',\n",
        "    save_strategy='epoch',\n",
        "    logging_dir='/content',\n",
        "    logging_steps=10,\n",
        "    fp16=True,\n",
        "    disable_tqdm=False,\n",
        "    load_best_model_at_end=True,\n",
        "    report_to=\"none\"\n",
        ")\n",
        "\n",
        "# 최적의 파라미터로 Trainer 구성\n",
        "model = AutoModelForSequenceClassification.from_pretrained(model_name, num_labels=num_labels)\n",
        "\n",
        "trainer7 = Trainer(\n",
        "    model=model,\n",
        "    args=training_args,\n",
        "    train_dataset=train_dataset,\n",
        "    eval_dataset=test_dataset,  # 전체 학습 데이터로 평가\n",
        "    compute_metrics=compute_metrics\n",
        ")\n"
      ],
      "metadata": {
        "colab": {
          "base_uri": "https://localhost:8080/"
        },
        "id": "rh1n8Jd2kLaA",
        "outputId": "88b0b9de-6f89-481e-a25a-62ef8b3725ab"
      },
      "execution_count": null,
      "outputs": [
        {
          "output_type": "stream",
          "name": "stderr",
          "text": [
            "/usr/local/lib/python3.11/dist-packages/transformers/training_args.py:1575: FutureWarning: `evaluation_strategy` is deprecated and will be removed in version 4.46 of 🤗 Transformers. Use `eval_strategy` instead\n",
            "  warnings.warn(\n",
            "Some weights of BertForSequenceClassification were not initialized from the model checkpoint at monologg/kobert and are newly initialized: ['classifier.bias', 'classifier.weight']\n",
            "You should probably TRAIN this model on a down-stream task to be able to use it for predictions and inference.\n"
          ]
        }
      ]
    },
    {
      "cell_type": "code",
      "execution_count": null,
      "metadata": {
        "colab": {
          "base_uri": "https://localhost:8080/",
          "height": 206
        },
        "id": "kw68uGov6G4A",
        "outputId": "8930fc68-75e7-4037-da78-e8912180ca6a"
      },
      "outputs": [
        {
          "output_type": "display_data",
          "data": {
            "text/plain": [
              "<IPython.core.display.HTML object>"
            ],
            "text/html": [
              "\n",
              "    <div>\n",
              "      \n",
              "      <progress value='1689' max='1689' style='width:300px; height:20px; vertical-align: middle;'></progress>\n",
              "      [1689/1689 06:56, Epoch 3/3]\n",
              "    </div>\n",
              "    <table border=\"1\" class=\"dataframe\">\n",
              "  <thead>\n",
              " <tr style=\"text-align: left;\">\n",
              "      <th>Epoch</th>\n",
              "      <th>Training Loss</th>\n",
              "      <th>Validation Loss</th>\n",
              "      <th>F1</th>\n",
              "    </tr>\n",
              "  </thead>\n",
              "  <tbody>\n",
              "    <tr>\n",
              "      <td>1</td>\n",
              "      <td>0.708400</td>\n",
              "      <td>0.903765</td>\n",
              "      <td>0.662619</td>\n",
              "    </tr>\n",
              "    <tr>\n",
              "      <td>2</td>\n",
              "      <td>0.702600</td>\n",
              "      <td>0.745139</td>\n",
              "      <td>0.721167</td>\n",
              "    </tr>\n",
              "    <tr>\n",
              "      <td>3</td>\n",
              "      <td>0.436200</td>\n",
              "      <td>0.759436</td>\n",
              "      <td>0.739004</td>\n",
              "    </tr>\n",
              "  </tbody>\n",
              "</table><p>"
            ]
          },
          "metadata": {}
        },
        {
          "output_type": "stream",
          "name": "stdout",
          "text": [
            "Elapsed Time: 418.00 seconds\n",
            "Average CPU Usage: 58.95%\n"
          ]
        }
      ],
      "source": [
        "# CPU 사용량 및 속도 측정\n",
        "measure_cpu_usage_and_time(trainer7.train)"
      ]
    },
    {
      "cell_type": "code",
      "source": [],
      "metadata": {
        "id": "yJW5ZGc8BjMj"
      },
      "execution_count": null,
      "outputs": []
    },
    {
      "cell_type": "code",
      "execution_count": null,
      "metadata": {
        "colab": {
          "base_uri": "https://localhost:8080/"
        },
        "id": "FRlQ5IJKvhHK",
        "outputId": "882d2930-61f3-4924-8464-8fa24fd78652"
      },
      "outputs": [
        {
          "output_type": "stream",
          "name": "stdout",
          "text": [
            "모델이 저장되었습니다.\n"
          ]
        }
      ],
      "source": [
        "# 모델 저장\n",
        "joblib.dump(trainer7, '/content/gdrive/MyDrive/trainer_news_text.pkl')\n",
        "\n",
        "print(\"모델이 저장되었습니다.\")"
      ]
    },
    {
      "cell_type": "code",
      "execution_count": null,
      "metadata": {
        "colab": {
          "base_uri": "https://localhost:8080/",
          "height": 17
        },
        "id": "VAkrZ3A4uIx9",
        "outputId": "ad8c4afe-4df1-4f01-ac2b-3232f6fbe4ff"
      },
      "outputs": [
        {
          "output_type": "display_data",
          "data": {
            "text/plain": [
              "<IPython.core.display.HTML object>"
            ],
            "text/html": []
          },
          "metadata": {}
        }
      ],
      "source": [
        "# 8. 저장된 모델로 테스트 데이터 예측 및 결과 저장\n",
        "# 저장된 모델 불러오기\n",
        "\n",
        "loaded_model = joblib.load('/content/gdrive/MyDrive/trainer7.pkl')\n",
        "\n",
        "# 불러온 모델을 사용하여 예측 수행\n",
        "predictions7 = loaded_model.predict(test_dataset)\n",
        "\n",
        "test_predictions7 = np.argmax(predictions7.predictions, axis=1)\n",
        "decoded_test_predictions7 = label_encoder.inverse_transform(test_predictions7)"
      ]
    },
    {
      "cell_type": "code",
      "execution_count": null,
      "metadata": {
        "colab": {
          "base_uri": "https://localhost:8080/",
          "height": 415
        },
        "id": "vfuiHrN0xM_-",
        "outputId": "4b2f04d1-c86f-4c7d-8dd7-ae5460047fda"
      },
      "outputs": [
        {
          "output_type": "execute_result",
          "data": {
            "text/plain": [
              "                                                text category_prediction\n",
              "0  국세청 적발 탈세 등 악용 우려 세종충청일보 장중식 기자 신용카드 위장가맹점 적발 ...                  사회\n",
              "1  한전 정부혁신박람회 이용환 기자 한전이 미세먼지를 청소하는 수소버스로 제 대한민국 ...                  경제\n",
              "2  이데일리 한광범 기자 브로드밴드는 텔레콤 와 함께  랜케이블망에서도 사용자에게 상하...               IT,과학\n",
              "3  조배숙 의원 예산정책협 촉구 착공 뒤 착공 김형민 기자 전북 국회의원전라북도 예산정...                  정치\n",
              "4  교육청과 학교가 나서 현실적 대책 마련해야 홍성장 기자 광주지역 초등학교병설유치원에...           교육/입시/NIE\n",
              "5  카드사의 수수료율 인상 방침에 대형 유통업계가 마케팅 축소를 검토하고 있다 이데일리...                  경제\n",
              "6  태광그룹 계열 한국케이블텔레콤 대표 신동선이 우체국에서 알뜰폰 판매를 시작했다 의 ...                  경제\n",
              "7  박길수 기자 폭염 속 농업인에게 큰 도움 오는 수확작업 대행 핵심공약 축산농가 경쟁...                  종합\n",
              "8  이홍재 기자 한강유역환경청은 환경부가 전국 지자체를 대상으로 실시한 공공하수도의 운...                  종합\n",
              "9  삼성전자가 개척한 글로벌 폴더블폰 시장에 화웨이모토로라가 가세하면서 한중 맞대결이 ...               IT,과학"
            ],
            "text/html": [
              "\n",
              "  <div id=\"df-6a827929-d151-4897-9c01-7a0d82084da8\" class=\"colab-df-container\">\n",
              "    <div>\n",
              "<style scoped>\n",
              "    .dataframe tbody tr th:only-of-type {\n",
              "        vertical-align: middle;\n",
              "    }\n",
              "\n",
              "    .dataframe tbody tr th {\n",
              "        vertical-align: top;\n",
              "    }\n",
              "\n",
              "    .dataframe thead th {\n",
              "        text-align: right;\n",
              "    }\n",
              "</style>\n",
              "<table border=\"1\" class=\"dataframe\">\n",
              "  <thead>\n",
              "    <tr style=\"text-align: right;\">\n",
              "      <th></th>\n",
              "      <th>text</th>\n",
              "      <th>category_prediction</th>\n",
              "    </tr>\n",
              "  </thead>\n",
              "  <tbody>\n",
              "    <tr>\n",
              "      <th>0</th>\n",
              "      <td>국세청 적발 탈세 등 악용 우려 세종충청일보 장중식 기자 신용카드 위장가맹점 적발 ...</td>\n",
              "      <td>사회</td>\n",
              "    </tr>\n",
              "    <tr>\n",
              "      <th>1</th>\n",
              "      <td>한전 정부혁신박람회 이용환 기자 한전이 미세먼지를 청소하는 수소버스로 제 대한민국 ...</td>\n",
              "      <td>경제</td>\n",
              "    </tr>\n",
              "    <tr>\n",
              "      <th>2</th>\n",
              "      <td>이데일리 한광범 기자 브로드밴드는 텔레콤 와 함께  랜케이블망에서도 사용자에게 상하...</td>\n",
              "      <td>IT,과학</td>\n",
              "    </tr>\n",
              "    <tr>\n",
              "      <th>3</th>\n",
              "      <td>조배숙 의원 예산정책협 촉구 착공 뒤 착공 김형민 기자 전북 국회의원전라북도 예산정...</td>\n",
              "      <td>정치</td>\n",
              "    </tr>\n",
              "    <tr>\n",
              "      <th>4</th>\n",
              "      <td>교육청과 학교가 나서 현실적 대책 마련해야 홍성장 기자 광주지역 초등학교병설유치원에...</td>\n",
              "      <td>교육/입시/NIE</td>\n",
              "    </tr>\n",
              "    <tr>\n",
              "      <th>5</th>\n",
              "      <td>카드사의 수수료율 인상 방침에 대형 유통업계가 마케팅 축소를 검토하고 있다 이데일리...</td>\n",
              "      <td>경제</td>\n",
              "    </tr>\n",
              "    <tr>\n",
              "      <th>6</th>\n",
              "      <td>태광그룹 계열 한국케이블텔레콤 대표 신동선이 우체국에서 알뜰폰 판매를 시작했다 의 ...</td>\n",
              "      <td>경제</td>\n",
              "    </tr>\n",
              "    <tr>\n",
              "      <th>7</th>\n",
              "      <td>박길수 기자 폭염 속 농업인에게 큰 도움 오는 수확작업 대행 핵심공약 축산농가 경쟁...</td>\n",
              "      <td>종합</td>\n",
              "    </tr>\n",
              "    <tr>\n",
              "      <th>8</th>\n",
              "      <td>이홍재 기자 한강유역환경청은 환경부가 전국 지자체를 대상으로 실시한 공공하수도의 운...</td>\n",
              "      <td>종합</td>\n",
              "    </tr>\n",
              "    <tr>\n",
              "      <th>9</th>\n",
              "      <td>삼성전자가 개척한 글로벌 폴더블폰 시장에 화웨이모토로라가 가세하면서 한중 맞대결이 ...</td>\n",
              "      <td>IT,과학</td>\n",
              "    </tr>\n",
              "  </tbody>\n",
              "</table>\n",
              "</div>\n",
              "    <div class=\"colab-df-buttons\">\n",
              "\n",
              "  <div class=\"colab-df-container\">\n",
              "    <button class=\"colab-df-convert\" onclick=\"convertToInteractive('df-6a827929-d151-4897-9c01-7a0d82084da8')\"\n",
              "            title=\"Convert this dataframe to an interactive table.\"\n",
              "            style=\"display:none;\">\n",
              "\n",
              "  <svg xmlns=\"http://www.w3.org/2000/svg\" height=\"24px\" viewBox=\"0 -960 960 960\">\n",
              "    <path d=\"M120-120v-720h720v720H120Zm60-500h600v-160H180v160Zm220 220h160v-160H400v160Zm0 220h160v-160H400v160ZM180-400h160v-160H180v160Zm440 0h160v-160H620v160ZM180-180h160v-160H180v160Zm440 0h160v-160H620v160Z\"/>\n",
              "  </svg>\n",
              "    </button>\n",
              "\n",
              "  <style>\n",
              "    .colab-df-container {\n",
              "      display:flex;\n",
              "      gap: 12px;\n",
              "    }\n",
              "\n",
              "    .colab-df-convert {\n",
              "      background-color: #E8F0FE;\n",
              "      border: none;\n",
              "      border-radius: 50%;\n",
              "      cursor: pointer;\n",
              "      display: none;\n",
              "      fill: #1967D2;\n",
              "      height: 32px;\n",
              "      padding: 0 0 0 0;\n",
              "      width: 32px;\n",
              "    }\n",
              "\n",
              "    .colab-df-convert:hover {\n",
              "      background-color: #E2EBFA;\n",
              "      box-shadow: 0px 1px 2px rgba(60, 64, 67, 0.3), 0px 1px 3px 1px rgba(60, 64, 67, 0.15);\n",
              "      fill: #174EA6;\n",
              "    }\n",
              "\n",
              "    .colab-df-buttons div {\n",
              "      margin-bottom: 4px;\n",
              "    }\n",
              "\n",
              "    [theme=dark] .colab-df-convert {\n",
              "      background-color: #3B4455;\n",
              "      fill: #D2E3FC;\n",
              "    }\n",
              "\n",
              "    [theme=dark] .colab-df-convert:hover {\n",
              "      background-color: #434B5C;\n",
              "      box-shadow: 0px 1px 3px 1px rgba(0, 0, 0, 0.15);\n",
              "      filter: drop-shadow(0px 1px 2px rgba(0, 0, 0, 0.3));\n",
              "      fill: #FFFFFF;\n",
              "    }\n",
              "  </style>\n",
              "\n",
              "    <script>\n",
              "      const buttonEl =\n",
              "        document.querySelector('#df-6a827929-d151-4897-9c01-7a0d82084da8 button.colab-df-convert');\n",
              "      buttonEl.style.display =\n",
              "        google.colab.kernel.accessAllowed ? 'block' : 'none';\n",
              "\n",
              "      async function convertToInteractive(key) {\n",
              "        const element = document.querySelector('#df-6a827929-d151-4897-9c01-7a0d82084da8');\n",
              "        const dataTable =\n",
              "          await google.colab.kernel.invokeFunction('convertToInteractive',\n",
              "                                                    [key], {});\n",
              "        if (!dataTable) return;\n",
              "\n",
              "        const docLinkHtml = 'Like what you see? Visit the ' +\n",
              "          '<a target=\"_blank\" href=https://colab.research.google.com/notebooks/data_table.ipynb>data table notebook</a>'\n",
              "          + ' to learn more about interactive tables.';\n",
              "        element.innerHTML = '';\n",
              "        dataTable['output_type'] = 'display_data';\n",
              "        await google.colab.output.renderOutput(dataTable, element);\n",
              "        const docLink = document.createElement('div');\n",
              "        docLink.innerHTML = docLinkHtml;\n",
              "        element.appendChild(docLink);\n",
              "      }\n",
              "    </script>\n",
              "  </div>\n",
              "\n",
              "\n",
              "<div id=\"df-8f18f2a5-8856-4c62-9776-a1b2a9e2387c\">\n",
              "  <button class=\"colab-df-quickchart\" onclick=\"quickchart('df-8f18f2a5-8856-4c62-9776-a1b2a9e2387c')\"\n",
              "            title=\"Suggest charts\"\n",
              "            style=\"display:none;\">\n",
              "\n",
              "<svg xmlns=\"http://www.w3.org/2000/svg\" height=\"24px\"viewBox=\"0 0 24 24\"\n",
              "     width=\"24px\">\n",
              "    <g>\n",
              "        <path d=\"M19 3H5c-1.1 0-2 .9-2 2v14c0 1.1.9 2 2 2h14c1.1 0 2-.9 2-2V5c0-1.1-.9-2-2-2zM9 17H7v-7h2v7zm4 0h-2V7h2v10zm4 0h-2v-4h2v4z\"/>\n",
              "    </g>\n",
              "</svg>\n",
              "  </button>\n",
              "\n",
              "<style>\n",
              "  .colab-df-quickchart {\n",
              "      --bg-color: #E8F0FE;\n",
              "      --fill-color: #1967D2;\n",
              "      --hover-bg-color: #E2EBFA;\n",
              "      --hover-fill-color: #174EA6;\n",
              "      --disabled-fill-color: #AAA;\n",
              "      --disabled-bg-color: #DDD;\n",
              "  }\n",
              "\n",
              "  [theme=dark] .colab-df-quickchart {\n",
              "      --bg-color: #3B4455;\n",
              "      --fill-color: #D2E3FC;\n",
              "      --hover-bg-color: #434B5C;\n",
              "      --hover-fill-color: #FFFFFF;\n",
              "      --disabled-bg-color: #3B4455;\n",
              "      --disabled-fill-color: #666;\n",
              "  }\n",
              "\n",
              "  .colab-df-quickchart {\n",
              "    background-color: var(--bg-color);\n",
              "    border: none;\n",
              "    border-radius: 50%;\n",
              "    cursor: pointer;\n",
              "    display: none;\n",
              "    fill: var(--fill-color);\n",
              "    height: 32px;\n",
              "    padding: 0;\n",
              "    width: 32px;\n",
              "  }\n",
              "\n",
              "  .colab-df-quickchart:hover {\n",
              "    background-color: var(--hover-bg-color);\n",
              "    box-shadow: 0 1px 2px rgba(60, 64, 67, 0.3), 0 1px 3px 1px rgba(60, 64, 67, 0.15);\n",
              "    fill: var(--button-hover-fill-color);\n",
              "  }\n",
              "\n",
              "  .colab-df-quickchart-complete:disabled,\n",
              "  .colab-df-quickchart-complete:disabled:hover {\n",
              "    background-color: var(--disabled-bg-color);\n",
              "    fill: var(--disabled-fill-color);\n",
              "    box-shadow: none;\n",
              "  }\n",
              "\n",
              "  .colab-df-spinner {\n",
              "    border: 2px solid var(--fill-color);\n",
              "    border-color: transparent;\n",
              "    border-bottom-color: var(--fill-color);\n",
              "    animation:\n",
              "      spin 1s steps(1) infinite;\n",
              "  }\n",
              "\n",
              "  @keyframes spin {\n",
              "    0% {\n",
              "      border-color: transparent;\n",
              "      border-bottom-color: var(--fill-color);\n",
              "      border-left-color: var(--fill-color);\n",
              "    }\n",
              "    20% {\n",
              "      border-color: transparent;\n",
              "      border-left-color: var(--fill-color);\n",
              "      border-top-color: var(--fill-color);\n",
              "    }\n",
              "    30% {\n",
              "      border-color: transparent;\n",
              "      border-left-color: var(--fill-color);\n",
              "      border-top-color: var(--fill-color);\n",
              "      border-right-color: var(--fill-color);\n",
              "    }\n",
              "    40% {\n",
              "      border-color: transparent;\n",
              "      border-right-color: var(--fill-color);\n",
              "      border-top-color: var(--fill-color);\n",
              "    }\n",
              "    60% {\n",
              "      border-color: transparent;\n",
              "      border-right-color: var(--fill-color);\n",
              "    }\n",
              "    80% {\n",
              "      border-color: transparent;\n",
              "      border-right-color: var(--fill-color);\n",
              "      border-bottom-color: var(--fill-color);\n",
              "    }\n",
              "    90% {\n",
              "      border-color: transparent;\n",
              "      border-bottom-color: var(--fill-color);\n",
              "    }\n",
              "  }\n",
              "</style>\n",
              "\n",
              "  <script>\n",
              "    async function quickchart(key) {\n",
              "      const quickchartButtonEl =\n",
              "        document.querySelector('#' + key + ' button');\n",
              "      quickchartButtonEl.disabled = true;  // To prevent multiple clicks.\n",
              "      quickchartButtonEl.classList.add('colab-df-spinner');\n",
              "      try {\n",
              "        const charts = await google.colab.kernel.invokeFunction(\n",
              "            'suggestCharts', [key], {});\n",
              "      } catch (error) {\n",
              "        console.error('Error during call to suggestCharts:', error);\n",
              "      }\n",
              "      quickchartButtonEl.classList.remove('colab-df-spinner');\n",
              "      quickchartButtonEl.classList.add('colab-df-quickchart-complete');\n",
              "    }\n",
              "    (() => {\n",
              "      let quickchartButtonEl =\n",
              "        document.querySelector('#df-8f18f2a5-8856-4c62-9776-a1b2a9e2387c button');\n",
              "      quickchartButtonEl.style.display =\n",
              "        google.colab.kernel.accessAllowed ? 'block' : 'none';\n",
              "    })();\n",
              "  </script>\n",
              "</div>\n",
              "\n",
              "    </div>\n",
              "  </div>\n"
            ],
            "application/vnd.google.colaboratory.intrinsic+json": {
              "type": "dataframe",
              "variable_name": "selected_columns7",
              "summary": "{\n  \"name\": \"selected_columns7\",\n  \"rows\": 2875,\n  \"fields\": [\n    {\n      \"column\": \"text\",\n      \"properties\": {\n        \"dtype\": \"string\",\n        \"num_unique_values\": 2875,\n        \"samples\": [\n          \"\\uae40\\ubcf4\\ud604 \\uc2e0\\uc785\\ud68c\\uc6d0 \\uc720\\uce58\\ub2e8\\ud569 \\ub3c4\\ubaa8\\uc5d0 \\uc911\\uc810 \\uc218\\uc7a5 \\uc790\\ub9ac \\uc624\\ub974\\uac8c \\ub3fc \\ucc45\\uc784\\uac10 \\ucee4\\uc838 \\uc120\\ubc30 \\ud68c\\uc7a5\\ub4e4 \\ubcf8\\ubc1b\\uace0 \\uc0ac\\ud68c\\uacf5\\ud5cc \\uc55e\\uc7a5 \\uc120\\uc784 \\ud68c\\uc7a5\\ub4e4\\uc758 \\ub178\\ub825\\uacfc \\ud5cc\\uc2e0\\uc744 \\uc774\\uc5b4\\ubc1b\\uc544 \\uc804\\ubd81\\uc9c0\\uad6c \\ud2b9\\uc6b0\\ud68c\\ub97c \\uc804\\uad6d\\uc5d0\\uc11c \\uac00\\uc7a5 \\ud65c\\uc57d\\uc774 \\ub6f0\\uc5b4\\ub09c \\ub2e8\\uccb4\\ub85c \\uc774\\ub04c\\uaca0\\uc2b5\\ub2c8\\ub2e4 \\uc9c0\\ub09c\\ud574 \\uc804\\ubd81\\uc9c0\\uad6c \\ud2b9\\uc6b0\\ud68c \\uc815\\uae30\\ucd1d\\ud68c\\uc5d0\\uc11c \\uc2e0\\uc784\\ud68c\\uc7a5\\uc73c\\ub85c \\uc120\\ucd9c\\ub3fc \\uc9c0\\ub09c \\ucde8\\uc784\\uc2dd\\uc744 \\uac00\\uc9c4 \\ub300\\ud45c \\ud68c\\uc7a5 \\uc804\\ubd81\\uc9c0\\uad6c\\uac00 \\uc18c\\uc18d\\ub41c \\ud55c\\uad6d\\ud55c\\uad6d\\uccad\\ub144\\ud68c\\uc758\\uc18c\\ub294 \\ub9cc \\uc774\\uc0c1 \\ubbf8\\ub9cc\\ub300\\ud55c\\ubbfc\\uad6d \\uae30\\uc900\\uc758 \\uccad\\ub144\\uc73c\\ub85c \\uad6c\\uc131\\ub41c \\uad6d\\uc81c \\uccad\\ub144\\ubbfc\\uac04\\ub2e8\\uccb4\\ub2e4 \\uc9c0\\uc5ed\\ubcc4\\ub85c \\uc9c0\\uad6c\\uac00 \\uc788\\ub2e4 \\ud2b9\\uc6b0\\ud68c\\ub294 \\uc5d0 \\uac00\\uc785\\ud574 \\uafb8\\uc900\\ud55c \\ud65c\\ub3d9\\uc744 \\uc218\\ub8cc\\ud55c \\ub9cc \\uc774\\uc0c1 \\ud68c\\uc6d0\\ub9cc\\uc774 \\uac00\\uc785\\ud560 \\uc218 \\uc788\\ub294 \\ub2e8\\uccb4\\ub2e4 \\uae40 \\uc804\\ubd81\\uc9c0\\uad6c \\ud2b9\\uc6b0\\ud68c \\uc2e0\\uc784\\ud68c\\uc7a5\\uc774 \\uc640 \\uc778\\uc5f0\\uc744 \\ub9fa\\uc740 \\uc9c0\\ub3c4 \\uc804\\ubd81 \\uc11c\\uc804\\uc8fc\\uccad\\ub144\\ud68c\\uc758\\uc18c \\ud68c\\uc6d0\\uc73c\\ub85c \\ud65c\\ub3d9\\uc744 \\uc2dc\\uc791\\ud55c \\uadf8\\ub294 \\uc804\\ubd81 \\uc11c\\uc804\\uc8fc\\uccad\\ub144\\ud68c\\uc758\\uc18c \\ud68c\\uc7a5 \\ubc0f \\ud2b9\\uc6b0\\ud68c \\ud68c\\uc7a5 \\ud55c\\uad6d \\ud2b9\\uc6b0\\ud68c \\uc911\\uc559\\uc784\\uc6d0\\uacfc \\uc804\\ubd81 \\ud2b9\\uc6b0\\ud68c \\ubd80\\ud68c\\uc7a5\\uc744 \\uac70\\uccd0 \\uc774 \\uc790\\ub9ac\\uc5d0 \\uc62c\\ub790\\ub2e4 \\uadf8\\ub294 \\uc0ac\\uc5c5\\uc744 \\ud558\\uba74\\uc11c \\ub2e4\\uc591\\ud55c \\ub2e8\\uccb4 \\uac00\\uc785 \\uc81c\\uc758\\uac00 \\uc788\\uc5c8\\uc9c0\\ub9cc \\uc5d0 \\uac00\\uc785\\ud574 \\uc640 \\ud2b9\\uc6b0\\ud68c \\ud65c\\ub3d9\\uc5d0\\ub9cc \\ub9e4\\uc9c4\\ud588\\ub2e4\\uba70 \\uc120\\ud6c4\\ubc30\\ub4e4\\uacfc \\uc0ac\\ud68c\\uacf5\\ud5cc\\ud65c\\ub3d9\\uc744 \\ud558\\uace0 \\uc11c\\ub85c \\ud3ec\\uc6a9\\ud558\\ub294 \\ub9c8\\uc74c\\uc73c\\ub85c \\uafb8\\uc900\\ud788 \\ud65c\\ub3d9\\ud588\\ub294\\ub370 \\uc218\\uc7a5\\uc758 \\uc790\\ub9ac\\uae4c\\uc9c0 \\uc624\\ub974\\uac8c \\ub3fc \\ucc45\\uc784\\uac10\\uc774 \\ub354 \\ucee4\\uc84c\\ub2e4\\uace0 \\ub9d0\\ud588\\ub2e4 \\ud3c9\\uc18c \\ud68c\\uc6d0\\ub4e4\\uacfc \\ub048\\ub048\\ud55c \\uc720\\ub300\\uac10\\uc744 \\ub9fa\\uace0 \\ub2e8\\uccb4 \\ud654\\ud569\\uacfc \\uacb0\\uc18d\\uc5d0 \\ud070 \\uc5ed\\ud560\\uc744 \\ud574\\uc628 \\uadf8\\ub294 \\uc62c\\ud574 \\uc5c5\\ubb34 \\uacc4\\ud68d\\uc73c\\ub85c \\uc120\\ud6c4\\ubc30 \\uacb0\\uc18d \\uac15\\ud654\\uc640 \\uc2e0\\uaddc \\ud68c\\uc6d0 \\ud655\\ubcf4 \\ub4f1\\uc5d0 \\ud798\\uc4f8 \\uc608\\uc815\\uc774\\ub2e4 \\uc774\\ub97c \\uc704\\ud574 \\ud604 \\uccad\\ub144 \\ud68c\\uc6d0 \\ubc0f \\uc5ed\\ub300 \\uc804\\ubd81 \\ud2b9\\uc6b0\\ud68c \\uc784\\uc6d0\\ub4e4\\uacfc \\uac04\\ub2f4\\ud68c\\ub97c \\uc5f4\\uc5b4 \\uc18c\\ud1b5\\uc758 \\uae30\\ud68c\\ub97c \\uac16\\ub294\\ub2e4\\ub294 \\uac8c \\uadf8\\uc758 \\uc124\\uba85\\uc774\\ub2e4 \\ub4f1\\ubc18\\ub300\\ud68c \\uace8\\ud504\\ub300\\ud68c \\ub4f1 \\ud68c\\uc6d0\\uac04 \\ub2e4\\uc591\\ud55c \\uad50\\ub958\\uc758 \\uc790\\ub9ac\\ub97c \\ub9c8\\ub828\\ud558\\uace0 \\uae30\\uc874 \\ud68c\\uc6d0\\uc758 \\ud2b9\\uc6b0\\ud68c \\uc720\\uc785\\uc744 \\ub192\\uc774\\uae30 \\uc704\\ud55c \\uc9c0\\uc6d0\\ucc45\\ub3c4 \\uc900\\ube44\\ud55c\\ub2e4 \\ub610 \\uadf8\\ub294 \\ud604\\uc7ac \\ub3c4\\ub0b4 \\ud2b9\\uc6b0\\ud68c \\ud65c\\ub3d9\\uc744 \\ud558\\uc9c0 \\uc54a\\ub294 \\uc9c0\\uc5ed\\uc744 \\ucc3e\\uc544 \\uc560\\ub85c\\uc0ac\\ud56d\\uc744 \\ub4e3\\uace0 \\ud568\\uaed8 \\ud65c\\ub3d9\\ud560 \\uc218 \\uc788\\ub294 \\uc5ec\\uac74\\uc744 \\ub9cc\\ub4e4\\uace0\\uc790 \\ud55c\\ub2e4\\uba70 \\uc774\\uc678\\uc5d0\\ub3c4 \\ucde8\\uc784\\uc2dd\\uc5d0 \\ub4e4\\uc5b4\\uc628 \\uc300 \\ud654\\ud658\\uc744 \\ucc28\\uc0c1\\uc704 \\uacc4\\uce35\\uc5d0\\uac8c \\uc804\\ub2ec\\ud558\\ub294 \\ub4f1 \\ub2e4\\uc591\\ud55c \\uc0ac\\ud68c\\uacf5\\ud5cc \\ud65c\\ub3d9\\ub3c4 \\uacc4\\ud68d\\ud558\\uace0 \\uc788\\ub2e4\\uace0 \\ub367\\ubd99\\uc600\\ub2e4 \\uc774\\uc5b4\\uc11c \\uadf8\\ub294 \\uc804\\ubd81\\uc9c0\\uad6c  \\ud2b9\\uc6b0\\ud68c\\uac00 \\uc628\\uac16 \\uc5ed\\uacbd \\uc18d\\uc5d0\\uc11c\\ub3c4 \\uc9c0\\uc18d\\uc801\\uc778 \\uc131\\uc7a5\\uc758 \\uc5ed\\uc0ac\\ub97c \\uc368 \\uc62c \\uc218 \\uc788\\ub358 \\uac83\\uc740 \\uc5ed\\ub300 \\ud68c\\uc7a5\\ub4e4\\uc758 \\uac15\\uc778\\ud55c \\ubfcc\\ub9ac\\uac00 \\uc788\\uc5c8\\uae30 \\ub54c\\ubb38\\uc774\\ub77c\\uba70 \\uc5b4\\ub5a0\\ud55c \\ub09c\\uad00\\uc5d0\\ub3c4 \\ud754\\ub4e4\\ub9ac\\uc9c0 \\uc54a\\ub294 \\uad73\\uc740 \\uc758\\uc9c0\\ub85c \\uc9c0\\uad6c\\ud68c\\uc7a5\\uc9c1\\uc744 \\uc218\\ud589\\ud574 \\uae68\\uc5b4\\uc788\\uace0 \\uc0dd\\ub3d9\\uac10 \\uc788\\ub294 \\ub2e8\\uccb4\\ub97c \\ub9cc\\ub4e4\\uaca0\\ub2e4\\uace0 \\ub2e4\\uc9d0\\ud588\\ub2e4 \\uc804\\uc8fc \\ucd9c\\uc2e0\\uc778 \\uae40 \\ud68c\\uc7a5\\uc740 \\uc720\\uc774\\ud654\\uc804\\ub825 \\ub300\\ud45c \\uc804\\uc8fc \\ub300\\uc1a1\\uc7a5\\ub840\\uc2dd\\uc7a5 \\ub300\\ud45c \\ud0dc\\uc591\\uad11 \\uc804\\ubb38\\uae30\\uc5c5 \\uc544\\uc774\\uc81c\\uc774\\uc194\\ub77c \\ub300\\ud45c\\uc774\\uc0ac \\ub4f1\\uc744 \\ub9e1\\uace0 \\uc788\\uae30\\ub3c4 \\ud558\\ub2e4\",\n          \"\\ucd5c\\uadfc \\ubc1c\\uc0dd\\ud55c \\uad11\\uc8fc \\ubaa8 \\uc0ac\\ub9bd\\uace0 \\uc2dc\\ud5d8\\ubb38\\uc81c \\uc720\\ucd9c \\uc758\\ud639\\uacfc \\uad00\\ub828 \\uc0c1\\ub2f9\\uc218 \\uace0\\uad50 \\uae30\\uc219\\uc0ac\\uac00 \\uc5ec\\uc804\\ud788 \\uc131\\uc801\\uc774\\ub098 \\uc785\\uc2dc \\uc704\\uc8fc\\ub85c \\uc6b4\\uc601\\ub418\\ub294 \\uacfc\\uc815\\uc5d0\\uc11c \\ubc1c\\uc0dd\\ud558\\ub294 \\ud3d0\\ud574\\ub97c \\uc5c6\\uc560\\uae30 \\uc704\\ud574 \\uc774\\ub97c \\uacf5\\uc775\\ud615 \\uae30\\uc219\\uc0ac\\ub85c \\uc804\\ud658\\ud574\\uc57c \\ud55c\\ub2e4\\ub294 \\uc758\\uacac\\uc774 \\uad50\\uc721\\uacc4 \\uc548\\ud30e\\uc5d0\\uc11c \\uc81c\\uae30\\ub418\\uace0 \\uc788\\ub2e4 \\uad11\\uc8fc\\uc2dc\\uad50\\uc721\\uccad\\uacfc \\uc77c\\uc120 \\uace0\\uad50\\uc5d0 \\ub530\\ub974\\uba74 \\uad11\\uc8fc\\uc5d0\\uc11c \\uae30\\uc219\\uc0ac\\ub97c \\uc6b4\\uc601\\ud558\\uace0 \\uc788\\ub294 \\uace0\\uad50\\ub294 \\uad6d\\uacf5\\ub9bd \\uc0ac\\ub9bd \\ub4f1 \\ubaa8\\ub450 \\uc774\\ub978\\ub2e4 \\uc9c0\\ub09c\\ud574\\uc5d0 \\ube44\\ud574 \\uc5ec\\uace0\\uc640 \\uace0 \\uace0 \\ub4f1 \\uc904\\uc5c8\\ub2e4 \\uacfc\\uac70\\uc5d0 \\ube44\\ud574 \\uc815\\ub3c4\\uac00 \\uc57d\\ud654\\ub418\\uae30\\ub294 \\ud588\\uc9c0\\ub9cc \\uc5ec\\uc804\\ud788 \\uc0c1\\ub2f9\\uc218 \\ud559\\uad50\\ub294 \\uc0ac\\ud68c\\uc801\\ubc30\\ub824 \\ub300\\uc0c1 \\uc6d0\\uac70\\ub9ac \\ud1b5\\ud559 \\ub4f1 \\uac00\\ub7c9\\uc744 \\uc6b0\\uc120 \\ubc30\\uc815\\ud55c \\ub4a4 \\ub098\\uba38\\uc9c0\\ub294 \\uc131\\uc801 \\uc6b0\\uc218\\ud559\\uc0dd \\uc704\\uc8fc\\ub85c \\uc785\\uc0ac\\uc0dd\\uc744 \\uc120\\ubc1c\\ud558\\uace0 \\uc788\\ub294 \\uc2e4\\uc815\\uc774\\ub2e4 \\ub0b4\\uc2e0 \\ubaa8\\uc758\\uace0\\uc0ac \\ub77c\\ub4e0\\uc9c0 \\uc131\\uc801 \\uad6d\\uc5b4\\uc218\\ud559\\uc601\\uc5b4\\ud0d0\\uad6c \\ub0b4\\uc2e0 \\uc911\\uac04\\uc77c\\uc81c\\uace0\\uc0ac \\uc131\\uc801 \\ub4f1 \\ub300\\ub193\\uace0 \\uc131\\uc801\\uc21c \\uc120\\ubc1c\\uc740 \\uc9c0\\uc591\\ud558\\uace0 \\uc788\\uc9c0\\ub9cc \\uc790\\uae30\\uc8fc\\ub3c4\\uc801 \\ud559\\uc2b5 \\uc6b0\\uc218\\uc790 \\ud559\\uc5c5 \\uc5ed\\ub7c9 \\ud559\\uc2b5 \\ud0dc\\ub3c4 \\ub4f1\\uc73c\\ub85c \\ud45c\\ud604\\uc744 \\ubc14\\uafd4 \\uc801\\uac8c\\ub294 \\ub9ce\\uac8c\\ub294 \\uc0ac\\uc2e4\\uc0c1 \\uc131\\uc801\\uc5d0 \\ub530\\ub77c \\uc120\\ubc1c\\ud558\\uace0 \\uc788\\ub2e4 \\uace0\\ub294 \\uc9c0\\ub09c\\ud574 \\uc548\\ud30e\\uc758 \\uae30\\uc219\\uc0ac\\uc0dd\\uc744 \\uc790\\uae30\\uc8fc\\ub3c4 \\ud559\\uc2b5\\ub825\\uc774 \\uc6b0\\uc218\\ud558\\uace0 \\ud488\\ud589\\uc774 \\ub2e8\\uc815\\ud55c \\ud559\\uc0dd\\uc73c\\ub85c \\uc120\\ubc1c\\ud55c\\ub370 \\uc774\\uc5b4 \\uc62c\\ud574\\ub294 \\ud559\\uc5c5\\uacc4\\ud68d\\uc11c \\uba74\\uc811 \\uba85\\uc744 \\ubf51\\uc558\\ub2e4 \\uc131\\uc801 \\uc120\\ubc1c\\ud55c \\uace0\\ub3c4 \\uc62c\\ud574 \\uba85\\uc758 \\uae30\\uc219\\uc0ac\\uc0dd \\uc911 \\ud559\\uc5c5 \\uc131\\uc801\\uc73c\\ub85c \\ud488\\ud589 \\ub098\\uba38\\uc9c0 \\ubc30\\ub824\\uc2ec\\uc73c\\ub85c \\ubf51\\uc558\\ub2e4 \\uc2dc\\ud5d8 \\uc131\\uc801 \\uc120\\ubc1c\\ud55c \\uace0\\ub294 \\uc9c0\\ub09c\\ud574 \\uc0ac\\uc2e4\\uc0c1 \\ud559\\uc5c5 \\uc911\\uc2ec\\uc73c\\ub85c \\ubf51\\uc558\\uace0 \\uc62c\\ud574\\ub294 \\ud559\\uc5c5\\uacc4\\ud68d\\uc11c \\uba74\\uc811 \\ucc44\\uc6e0\\ub2e4 \\uc804\\uad50\\uc0dd\\uc744 \\uc120\\ubc1c\\ub300\\uc0c1\\uc73c\\ub85c \\uc0bc\\ub294 \\ud559\\uad50\\ub3c4 \\uace0\\uc640 \\uc5ec\\uace0 \\uace0 \\ub4f1 \\ubd88\\uacfc\\ud558\\ub2e4 \\uc774\\ub7f0 \\uac00\\uc6b4\\ub370 \\uc77c\\ubd80 \\ud559\\uad50\\uc5d0\\uc11c \\ucd5c\\uc0c1\\uc704\\uad8c \\ud559\\uc0dd\\ub4e4\\ub85c \\uad6c\\uc131\\ub41c \\uae30\\uc219\\uc0ac\\uc0dd\\uc744 \\uc911\\uc2ec\\uc73c\\ub85c \\uc2ec\\ud654\\ud559\\uc2b5\\uc774\\ub098 \\ubcf4\\uac15\\uc218\\uc5c5\\uc774 \\uc554\\uc554\\ub9ac\\uc5d0 \\uc774\\ub904\\uc9c0\\uace0 \\uc77c\\ubd80 \\uc0ac\\ub9bd\\uace0\\uc5d0\\uc11c \\uc2dc\\ud5d8\\ubb38\\uc81c \\uc720\\ucd9c \\uc758\\ud639\\uae4c\\uc9c0 \\ubd88\\uac70\\uc9c0\\uba74\\uc11c \\ud559\\uad50\\uac00 \\uae30\\uc219\\uc0ac\\uc0dd \\ub0b4\\uc2e0\\uc744 \\uc870\\uc9c1\\uc801\\uc73c\\ub85c \\uad00\\ub9ac\\ud558\\ub294 \\uac83 \\uc544\\ub2c8\\ub0d0\\ub294 \\uc9c0\\uc801\\ub3c4 \\ub098\\uc624\\uace0 \\uc788\\ub2e4 \\uad50\\uc721\\uacc4 \\uc548\\ud30e\\uc5d0\\uc11c\\ub294 \\uc81c\\uc815\\ub41c \\uad11\\uc8fc\\uc2dc \\uac01\\uae09\\ud559\\uad50 \\uae30\\uc219\\uc0ac \\uc124\\uce58 \\ubc0f \\uc6b4\\uc601 \\uc870\\ub840\\uc548\\uc5d0 \\ub530\\ub978 \\uc0ac\\ud68c\\uc801 \\ud1b5\\ud569 \\ub300\\uc0c1\\uc790\\uc640 \\uc6d0\\uac70\\ub9ac \\ud1b5\\ud559\\uc790 \\uc6b0\\uc120 \\uc120\\ubc1c\\uc744 \\ub118\\uc5b4 \\uae30\\uc219\\uc0ac\\ub97c \\uad50\\uacfc\\ud559\\uc810\\uc81c\\ub098 \\ubc29\\uacfc\\ud6c4\\ud559\\uad50 \\uacf5\\ubd80\\ubc29\\uc774\\ub098 \\ub3c5\\uc11c\\uc2e4 \\uccb4\\ub825\\ub2e8\\ub828\\uc2e4 \\ub4f1\\uc73c\\ub85c \\ud65c\\uc6a9\\ud558\\ub294 \\uc2e4\\uc9c8\\uc801\\uc778 \\uacf5\\uc775\\ud615 \\uae30\\uc219\\uc0ac\\ub85c \\uc804\\ud658\\ud558\\ub294 \\uac83\\uc774 \\ubc14\\ub78c\\uc9c1\\ud558\\ub2e4\\ub294 \\ubaa9\\uc18c\\ub9ac\\uac00 \\ub192\\ub2e4 \\uad11\\uc8fc\\uad50\\uc721\\ud76c\\ub9dd\\ub124\\ud2b8\\uc6cc\\ud06c\\uc640 \\uc804\\uad50\\uc870 \\uad11\\uc8fc\\uc9c0\\ubd80 \\ub4f1 \\ub2e8\\uccb4\\ub294 \\uad11\\uc8fc\\uc2dc\\uad50\\uc721\\uccad \\ubcf8\\uad00 \\uc55e\\uc5d0\\uc11c \\uae30\\uc790\\ud68c\\uacac\\uc744 \\uc5f4\\uace0 \\uc77c\\ubd80 \\ud559\\uad50\\uc5d0\\uc11c \\ucd5c\\uc0c1\\uc704\\uad8c \\ud559\\uc0dd\\ub4e4\\ub85c \\uad6c\\uc131\\ub41c \\uae30\\uc219\\uc0ac\\uc0dd\\uc744 \\uc911\\uc2ec\\uc73c\\ub85c \\uc2ec\\ud654\\ud559\\uc2b5\\uc774\\ub098 \\ubcf4\\uac15\\uc218\\uc5c5\\uc774 \\uacf5\\uacf5\\uc5f0\\ud558\\uac8c \\uc774\\ub904\\uc9c0\\uace0 \\uc788\\uace0 \\uc77c\\ubd80 \\uc0ac\\ub9bd\\uace0\\uc5d0\\uc11c \\uc2dc\\ud5d8\\ubb38\\uc81c \\uc720\\ucd9c \\uc758\\ud639\\uae4c\\uc9c0 \\uc81c\\uae30\\ub418\\uba74\\uc11c \\uae30\\uc219\\uc0ac\\uac00 \\ud559\\uc0dd\\ub4e4\\uac04 \\ub0b4\\uc2e0\\uc131\\uc801 \\uacbd\\uc7c1\\uc744 \\uc870\\uc7a5\\ud558\\uace0 \\uc788\\ub2e4\\uace0 \\uc9c0\\uc801\\ud588\\ub2e4 \\uc774\\ub4e4\\uc740 \\uacfc\\ub3c4\\ud55c \\uacbd\\uc7c1\\uc744 \\ubd80\\ucd94\\uae30\\ub294 \\uad50\\uc721\\ud604\\uc2e4\\uc774 \\uadfc\\ubcf8\\uc801 \\uc6d0\\uc778\\uc774\\uace0 \\ub300\\ud559 \\uc11c\\uc5f4\\ud654\\uc640 \\uc785\\uc2dc \\uc81c\\ub3c4\\uac00 \\ubb38\\uc81c\\uc758 \\ud575\\uc2ec\\uc774\\ub77c\\uba70 \\ub300\\ud559\\uc758 \\uc11c\\uc5f4\\uc774 \\uace7 \\uad8c\\ub825\\uacfc \\ubd80\\uc758 \\ubc30\\uacbd\\uc73c\\ub85c \\uc774\\uc5b4\\uc9c0\\ub294 \\uc6b0\\ub9ac \\uc0ac\\ud68c \\uad6c\\uc870\\uc801 \\ubb38\\uc81c\\ub97c \\ub418\\ub3cc\\uc544\\ubd10\\uc57c \\ud55c\\ub2e4\\uace0 \\uc9c0\\uc801\\ud588\\ub2e4 \\ucd5c\\ubbfc\\uc11d\\uae30\\uc790 \\ucd5c\\ubbfc\\uc11d\",\n          \"\\ub3c4\\ucfc4\\uc62c\\ub9bc\\ud53d \\ucd9c\\uc804\\uad8c\\uc774 \\uac78\\ub9b0 \\uc57c\\uad6c \\ucd5c\\uac15\\uad6d \\uacb0\\uc815\\uc804 \\ucd9c\\uc804\\ud558\\ub294 \\ud55c\\uad6d \\uc57c\\uad6c \\ub300\\ud45c\\ud300 \\uc608\\ube44\\uc5d4\\ud2b8\\ub9ac \\uacf5\\uac1c\\ub410\\ub2e4  \\uc0ac\\ubb34\\uad6d\\uc740 \\uae30\\uc220\\uc704\\uc6d0\\ud68c\\uc640 \\uae40\\uacbd\\ubb38 \\ub300\\ud45c\\ud300 \\uac10\\ub3c5\\uc758 \\ucd94\\ucc9c \\ub4f1\\uc73c\\ub85c \\ucd94\\ub9b0 \\uc608\\ube44\\uc5d4\\ud2b8\\ub9ac \\uc138\\uacc4\\uc57c\\uad6c\\uc18c\\ud504\\ud2b8\\ubcfc\\uc5f0\\ub9f9\\uc5d0 \\uc81c\\ucd9c\\ud55c\\ub2e4 \\uc608\\ube44\\uc5d4\\ud2b8\\ub9ac \\ud22c\\uc218 \\ud3ec\\uc218 \\ub0b4\\uc57c\\uc218 \\uc678\\uc57c\\uc218 \\uc774\\ub904\\uc84c\\ub2e4 \\ubc15\\ubcd1\\ud638\\ud0a4\\uc6c0 \\ud788\\uc5b4\\ub85c\\uc988 \\uae40\\ud604\\uc218 \\ud2b8\\uc708\\uc2a4 \\uc591\\uc758\\uc9c0 \\ub2e4\\uc774\\ub178\\uc2a4 \\uc591\\ud604\\uc885 \\ud0c0\\uc774\\uac70\\uc988 \\uae40\\uad11\\ud604 \\uc640\\uc774\\ubc88\\uc2a4 \\ub4f1 \\ub9ac\\uadf8\\ub97c \\ub300\\ud45c\\ud558\\ub294 \\ud22c\\ud0c0\\uc758 \\uac04\\ud310\\uc120\\uc218\\ub4e4\\uc774 \\ubaa8\\ub450 \\uc608\\ube44\\uc5d4\\ud2b8\\ub9ac\\uc5d0 \\uc774\\ub984\\uc744 \\uc62c\\ub838\\ub2e4 \\ub610 \\uc62c\\ud574 \\uc2e0\\uc778\\uc655\\uc744 \\ub2e4\\ud22c\\ub294 \\ud22c\\uc218 \\uc815\\uc6b0\\uc601\\uacfc \\uc6d0\\ud0dc\\uc778\\uc0bc\\uc131 \\ub77c\\uc774\\uc628\\uc988 \\uc57c\\uc218\\uc5d0\\uc11c \\ud22c\\uc218\\ub85c \\uc804\\ud5a5\\ud574 \\uc138\\uc774\\ube0c \\uc9c8\\uc8fc\\ud558\\ub294 \\ud558\\uc7ac\\ud6c8 \\uc640\\uc774\\ubc88\\uc2a4 \\ud1a0\\uc885 \\uc6b0\\uc644 \\uc5d0\\uc774\\uc2a4 \\uc774\\uc601\\ud558\\ub450\\uc0b0 \\ubca0\\uc5b4\\uc2a4\\uc640 \\ucd5c\\uc6d0\\ud0dc\\ud0a4\\uc6c0 \\ub4f1 \\uac01 \\ud300\\uc758 \\uc601\\uac74\\ub3c4 \\uae40 \\uac10\\ub3c5\\uc758 \\ubd80\\ub984\\uc744 \\ubc1b\\uc558\\ub2e4 \\uadf8\\ub7ec\\ub098 \\ud0dc\\uadf9\\ub9c8\\ud06c\\uc5d0 \\uac15\\ud55c \\uc5f4\\ub9dd\\uc744 \\ub4dc\\ub7ec\\ub0b8 \\ubbf8\\uad6d\\ud504\\ub85c\\uc57c\\uad6c \\uba54\\uc774\\uc800\\ub9ac\\uadf8\\uc758 \\ub808\\uc774\\uc2a4\\uc740 \\uc608\\ube44\\uc5d4\\ud2b8\\ub9ac\\uc5d0\\uc11c \\ube60\\uc84c\\ub2e4 \\uae40\\uacbd\\ubb38 \\uac10\\ub3c5\\uc740 \\uc2e0\\uad6c \\uc870\\ud654\\ub97c \\ud1b5\\ud55c \\ubca0\\uc774\\uc9d5\\uc62c\\ub9bc\\ud53d \\uc2e0\\ud654 \\uc7ac\\ud604\\uc744 \\ubaa9\\ud45c\\ub85c \\ub300\\ud45c\\ud300\\uc744 \\uafb8\\ub824 \\ub3c4\\ucfc4\\uc62c\\ub9bc\\ud53d \\ucd9c\\uc804\\uad8c \\ud655\\ubcf4\\uc640 \\ub300\\ud68c \\ub3c4\\uc804\\ud55c\\ub2e4 \\ud55c\\uad6d\\uc740 \\ub300\\ub9cc \\ud638\\uc8fc\\ubcf4\\ub2e4 \\ub098\\uc740 \\uc131\\uc801\\uc73c\\ub85c \\ub300\\ud68c \\uc774\\ub0b4 \\uc785\\uc0c1\\ud558\\uba74 \\uc544\\uc2dc\\uc544\\uc624\\uc138\\uc544\\ub2c8\\uc544 \\ub300\\ud45c \\uc790\\uaca9\\uc73c\\ub85c \\ub3c4\\ucfc4\\uc62c\\ub9bc\\ud53d \\ucd9c\\uc804\\uad8c\\uc744 \\ud68d\\ub4dd\\ud55c\\ub2e4\"\n        ],\n        \"semantic_type\": \"\",\n        \"description\": \"\"\n      }\n    },\n    {\n      \"column\": \"category_prediction\",\n      \"properties\": {\n        \"dtype\": \"category\",\n        \"num_unique_values\": 7,\n        \"samples\": [\n          \"\\uc0ac\\ud68c\",\n          \"\\uacbd\\uc81c\",\n          \"\\uc885\\ud569\"\n        ],\n        \"semantic_type\": \"\",\n        \"description\": \"\"\n      }\n    }\n  ]\n}"
            }
          },
          "metadata": {},
          "execution_count": 28
        }
      ],
      "source": [
        "test[\"category_prediction\"] = decoded_test_predictions7\n",
        "\n",
        "selected_columns7 = test[['text', 'category_prediction']]\n",
        "selected_columns7.head(10)"
      ]
    },
    {
      "cell_type": "code",
      "execution_count": null,
      "metadata": {
        "id": "kX1vzuLWxNC6"
      },
      "outputs": [],
      "source": [
        "selected_columns7"
      ]
    },
    {
      "cell_type": "code",
      "execution_count": null,
      "metadata": {
        "id": "AQBL9gv1xNFf"
      },
      "outputs": [],
      "source": []
    },
    {
      "cell_type": "code",
      "execution_count": null,
      "metadata": {
        "id": "6gbc-9HXxNIX"
      },
      "outputs": [],
      "source": []
    }
  ],
  "metadata": {
    "accelerator": "GPU",
    "colab": {
      "machine_shape": "hm",
      "provenance": [],
      "include_colab_link": true
    },
    "kernelspec": {
      "display_name": "Python 3",
      "name": "python3"
    },
    "language_info": {
      "name": "python"
    },
    "widgets": {
      "application/vnd.jupyter.widget-state+json": {
        "f7ae66d4512c4b50870f0a1a88445e26": {
          "model_module": "@jupyter-widgets/controls",
          "model_name": "HBoxModel",
          "model_module_version": "1.5.0",
          "state": {
            "_dom_classes": [],
            "_model_module": "@jupyter-widgets/controls",
            "_model_module_version": "1.5.0",
            "_model_name": "HBoxModel",
            "_view_count": null,
            "_view_module": "@jupyter-widgets/controls",
            "_view_module_version": "1.5.0",
            "_view_name": "HBoxView",
            "box_style": "",
            "children": [
              "IPY_MODEL_7201d0f2df7c4d5cb367f7197cf300f0",
              "IPY_MODEL_e67be03232494345a2e6c8555e62c905",
              "IPY_MODEL_a1527d7ccae24321a23f659d6ab2efaf"
            ],
            "layout": "IPY_MODEL_4ae7efe8bea8412889613c70ea0a1001"
          }
        },
        "7201d0f2df7c4d5cb367f7197cf300f0": {
          "model_module": "@jupyter-widgets/controls",
          "model_name": "HTMLModel",
          "model_module_version": "1.5.0",
          "state": {
            "_dom_classes": [],
            "_model_module": "@jupyter-widgets/controls",
            "_model_module_version": "1.5.0",
            "_model_name": "HTMLModel",
            "_view_count": null,
            "_view_module": "@jupyter-widgets/controls",
            "_view_module_version": "1.5.0",
            "_view_name": "HTMLView",
            "description": "",
            "description_tooltip": null,
            "layout": "IPY_MODEL_0e8037e07d4146f09118a6b2643dbba9",
            "placeholder": "​",
            "style": "IPY_MODEL_cb3f2161921e4d73ae9b59d944e191fc",
            "value": "Map: 100%"
          }
        },
        "e67be03232494345a2e6c8555e62c905": {
          "model_module": "@jupyter-widgets/controls",
          "model_name": "FloatProgressModel",
          "model_module_version": "1.5.0",
          "state": {
            "_dom_classes": [],
            "_model_module": "@jupyter-widgets/controls",
            "_model_module_version": "1.5.0",
            "_model_name": "FloatProgressModel",
            "_view_count": null,
            "_view_module": "@jupyter-widgets/controls",
            "_view_module_version": "1.5.0",
            "_view_name": "ProgressView",
            "bar_style": "success",
            "description": "",
            "description_tooltip": null,
            "layout": "IPY_MODEL_427a267deb504ed29ecbe1f605fed52e",
            "max": 9000,
            "min": 0,
            "orientation": "horizontal",
            "style": "IPY_MODEL_736a2628cb5b45e1ba03ffd43a103d56",
            "value": 9000
          }
        },
        "a1527d7ccae24321a23f659d6ab2efaf": {
          "model_module": "@jupyter-widgets/controls",
          "model_name": "HTMLModel",
          "model_module_version": "1.5.0",
          "state": {
            "_dom_classes": [],
            "_model_module": "@jupyter-widgets/controls",
            "_model_module_version": "1.5.0",
            "_model_name": "HTMLModel",
            "_view_count": null,
            "_view_module": "@jupyter-widgets/controls",
            "_view_module_version": "1.5.0",
            "_view_name": "HTMLView",
            "description": "",
            "description_tooltip": null,
            "layout": "IPY_MODEL_f786765619e24a98b472fd79782c2b9c",
            "placeholder": "​",
            "style": "IPY_MODEL_cf47c2b99bdd4dd8b1aac99b8d6be321",
            "value": " 9000/9000 [00:44&lt;00:00, 325.88 examples/s]"
          }
        },
        "4ae7efe8bea8412889613c70ea0a1001": {
          "model_module": "@jupyter-widgets/base",
          "model_name": "LayoutModel",
          "model_module_version": "1.2.0",
          "state": {
            "_model_module": "@jupyter-widgets/base",
            "_model_module_version": "1.2.0",
            "_model_name": "LayoutModel",
            "_view_count": null,
            "_view_module": "@jupyter-widgets/base",
            "_view_module_version": "1.2.0",
            "_view_name": "LayoutView",
            "align_content": null,
            "align_items": null,
            "align_self": null,
            "border": null,
            "bottom": null,
            "display": null,
            "flex": null,
            "flex_flow": null,
            "grid_area": null,
            "grid_auto_columns": null,
            "grid_auto_flow": null,
            "grid_auto_rows": null,
            "grid_column": null,
            "grid_gap": null,
            "grid_row": null,
            "grid_template_areas": null,
            "grid_template_columns": null,
            "grid_template_rows": null,
            "height": null,
            "justify_content": null,
            "justify_items": null,
            "left": null,
            "margin": null,
            "max_height": null,
            "max_width": null,
            "min_height": null,
            "min_width": null,
            "object_fit": null,
            "object_position": null,
            "order": null,
            "overflow": null,
            "overflow_x": null,
            "overflow_y": null,
            "padding": null,
            "right": null,
            "top": null,
            "visibility": null,
            "width": null
          }
        },
        "0e8037e07d4146f09118a6b2643dbba9": {
          "model_module": "@jupyter-widgets/base",
          "model_name": "LayoutModel",
          "model_module_version": "1.2.0",
          "state": {
            "_model_module": "@jupyter-widgets/base",
            "_model_module_version": "1.2.0",
            "_model_name": "LayoutModel",
            "_view_count": null,
            "_view_module": "@jupyter-widgets/base",
            "_view_module_version": "1.2.0",
            "_view_name": "LayoutView",
            "align_content": null,
            "align_items": null,
            "align_self": null,
            "border": null,
            "bottom": null,
            "display": null,
            "flex": null,
            "flex_flow": null,
            "grid_area": null,
            "grid_auto_columns": null,
            "grid_auto_flow": null,
            "grid_auto_rows": null,
            "grid_column": null,
            "grid_gap": null,
            "grid_row": null,
            "grid_template_areas": null,
            "grid_template_columns": null,
            "grid_template_rows": null,
            "height": null,
            "justify_content": null,
            "justify_items": null,
            "left": null,
            "margin": null,
            "max_height": null,
            "max_width": null,
            "min_height": null,
            "min_width": null,
            "object_fit": null,
            "object_position": null,
            "order": null,
            "overflow": null,
            "overflow_x": null,
            "overflow_y": null,
            "padding": null,
            "right": null,
            "top": null,
            "visibility": null,
            "width": null
          }
        },
        "cb3f2161921e4d73ae9b59d944e191fc": {
          "model_module": "@jupyter-widgets/controls",
          "model_name": "DescriptionStyleModel",
          "model_module_version": "1.5.0",
          "state": {
            "_model_module": "@jupyter-widgets/controls",
            "_model_module_version": "1.5.0",
            "_model_name": "DescriptionStyleModel",
            "_view_count": null,
            "_view_module": "@jupyter-widgets/base",
            "_view_module_version": "1.2.0",
            "_view_name": "StyleView",
            "description_width": ""
          }
        },
        "427a267deb504ed29ecbe1f605fed52e": {
          "model_module": "@jupyter-widgets/base",
          "model_name": "LayoutModel",
          "model_module_version": "1.2.0",
          "state": {
            "_model_module": "@jupyter-widgets/base",
            "_model_module_version": "1.2.0",
            "_model_name": "LayoutModel",
            "_view_count": null,
            "_view_module": "@jupyter-widgets/base",
            "_view_module_version": "1.2.0",
            "_view_name": "LayoutView",
            "align_content": null,
            "align_items": null,
            "align_self": null,
            "border": null,
            "bottom": null,
            "display": null,
            "flex": null,
            "flex_flow": null,
            "grid_area": null,
            "grid_auto_columns": null,
            "grid_auto_flow": null,
            "grid_auto_rows": null,
            "grid_column": null,
            "grid_gap": null,
            "grid_row": null,
            "grid_template_areas": null,
            "grid_template_columns": null,
            "grid_template_rows": null,
            "height": null,
            "justify_content": null,
            "justify_items": null,
            "left": null,
            "margin": null,
            "max_height": null,
            "max_width": null,
            "min_height": null,
            "min_width": null,
            "object_fit": null,
            "object_position": null,
            "order": null,
            "overflow": null,
            "overflow_x": null,
            "overflow_y": null,
            "padding": null,
            "right": null,
            "top": null,
            "visibility": null,
            "width": null
          }
        },
        "736a2628cb5b45e1ba03ffd43a103d56": {
          "model_module": "@jupyter-widgets/controls",
          "model_name": "ProgressStyleModel",
          "model_module_version": "1.5.0",
          "state": {
            "_model_module": "@jupyter-widgets/controls",
            "_model_module_version": "1.5.0",
            "_model_name": "ProgressStyleModel",
            "_view_count": null,
            "_view_module": "@jupyter-widgets/base",
            "_view_module_version": "1.2.0",
            "_view_name": "StyleView",
            "bar_color": null,
            "description_width": ""
          }
        },
        "f786765619e24a98b472fd79782c2b9c": {
          "model_module": "@jupyter-widgets/base",
          "model_name": "LayoutModel",
          "model_module_version": "1.2.0",
          "state": {
            "_model_module": "@jupyter-widgets/base",
            "_model_module_version": "1.2.0",
            "_model_name": "LayoutModel",
            "_view_count": null,
            "_view_module": "@jupyter-widgets/base",
            "_view_module_version": "1.2.0",
            "_view_name": "LayoutView",
            "align_content": null,
            "align_items": null,
            "align_self": null,
            "border": null,
            "bottom": null,
            "display": null,
            "flex": null,
            "flex_flow": null,
            "grid_area": null,
            "grid_auto_columns": null,
            "grid_auto_flow": null,
            "grid_auto_rows": null,
            "grid_column": null,
            "grid_gap": null,
            "grid_row": null,
            "grid_template_areas": null,
            "grid_template_columns": null,
            "grid_template_rows": null,
            "height": null,
            "justify_content": null,
            "justify_items": null,
            "left": null,
            "margin": null,
            "max_height": null,
            "max_width": null,
            "min_height": null,
            "min_width": null,
            "object_fit": null,
            "object_position": null,
            "order": null,
            "overflow": null,
            "overflow_x": null,
            "overflow_y": null,
            "padding": null,
            "right": null,
            "top": null,
            "visibility": null,
            "width": null
          }
        },
        "cf47c2b99bdd4dd8b1aac99b8d6be321": {
          "model_module": "@jupyter-widgets/controls",
          "model_name": "DescriptionStyleModel",
          "model_module_version": "1.5.0",
          "state": {
            "_model_module": "@jupyter-widgets/controls",
            "_model_module_version": "1.5.0",
            "_model_name": "DescriptionStyleModel",
            "_view_count": null,
            "_view_module": "@jupyter-widgets/base",
            "_view_module_version": "1.2.0",
            "_view_name": "StyleView",
            "description_width": ""
          }
        },
        "d59514966cee411385256851a560e057": {
          "model_module": "@jupyter-widgets/controls",
          "model_name": "HBoxModel",
          "model_module_version": "1.5.0",
          "state": {
            "_dom_classes": [],
            "_model_module": "@jupyter-widgets/controls",
            "_model_module_version": "1.5.0",
            "_model_name": "HBoxModel",
            "_view_count": null,
            "_view_module": "@jupyter-widgets/controls",
            "_view_module_version": "1.5.0",
            "_view_name": "HBoxView",
            "box_style": "",
            "children": [
              "IPY_MODEL_3dda75eb81ff424fb89eb0912a81c3ea",
              "IPY_MODEL_fca4558083a146fa89aa01f9e39993ac",
              "IPY_MODEL_1ad745bd078946c1b6ec0adbda445df3"
            ],
            "layout": "IPY_MODEL_942700fce89343a1998f3bf779880f2d"
          }
        },
        "3dda75eb81ff424fb89eb0912a81c3ea": {
          "model_module": "@jupyter-widgets/controls",
          "model_name": "HTMLModel",
          "model_module_version": "1.5.0",
          "state": {
            "_dom_classes": [],
            "_model_module": "@jupyter-widgets/controls",
            "_model_module_version": "1.5.0",
            "_model_name": "HTMLModel",
            "_view_count": null,
            "_view_module": "@jupyter-widgets/controls",
            "_view_module_version": "1.5.0",
            "_view_name": "HTMLView",
            "description": "",
            "description_tooltip": null,
            "layout": "IPY_MODEL_25ea4bf60611415e8308378375d13310",
            "placeholder": "​",
            "style": "IPY_MODEL_aa33efb53a8f486dbc51b31cb8e65f98",
            "value": "Map: 100%"
          }
        },
        "fca4558083a146fa89aa01f9e39993ac": {
          "model_module": "@jupyter-widgets/controls",
          "model_name": "FloatProgressModel",
          "model_module_version": "1.5.0",
          "state": {
            "_dom_classes": [],
            "_model_module": "@jupyter-widgets/controls",
            "_model_module_version": "1.5.0",
            "_model_name": "FloatProgressModel",
            "_view_count": null,
            "_view_module": "@jupyter-widgets/controls",
            "_view_module_version": "1.5.0",
            "_view_name": "ProgressView",
            "bar_style": "success",
            "description": "",
            "description_tooltip": null,
            "layout": "IPY_MODEL_04ebf0c06dd143e1a27318cf79fd82fb",
            "max": 3000,
            "min": 0,
            "orientation": "horizontal",
            "style": "IPY_MODEL_bdd5bb68df4049cbbfb5af3494a8d280",
            "value": 3000
          }
        },
        "1ad745bd078946c1b6ec0adbda445df3": {
          "model_module": "@jupyter-widgets/controls",
          "model_name": "HTMLModel",
          "model_module_version": "1.5.0",
          "state": {
            "_dom_classes": [],
            "_model_module": "@jupyter-widgets/controls",
            "_model_module_version": "1.5.0",
            "_model_name": "HTMLModel",
            "_view_count": null,
            "_view_module": "@jupyter-widgets/controls",
            "_view_module_version": "1.5.0",
            "_view_name": "HTMLView",
            "description": "",
            "description_tooltip": null,
            "layout": "IPY_MODEL_fd552d240bfc4c53aaa504548f73eb41",
            "placeholder": "​",
            "style": "IPY_MODEL_202237febf5d4d36b13810d01f33c3d4",
            "value": " 3000/3000 [00:06&lt;00:00, 433.42 examples/s]"
          }
        },
        "942700fce89343a1998f3bf779880f2d": {
          "model_module": "@jupyter-widgets/base",
          "model_name": "LayoutModel",
          "model_module_version": "1.2.0",
          "state": {
            "_model_module": "@jupyter-widgets/base",
            "_model_module_version": "1.2.0",
            "_model_name": "LayoutModel",
            "_view_count": null,
            "_view_module": "@jupyter-widgets/base",
            "_view_module_version": "1.2.0",
            "_view_name": "LayoutView",
            "align_content": null,
            "align_items": null,
            "align_self": null,
            "border": null,
            "bottom": null,
            "display": null,
            "flex": null,
            "flex_flow": null,
            "grid_area": null,
            "grid_auto_columns": null,
            "grid_auto_flow": null,
            "grid_auto_rows": null,
            "grid_column": null,
            "grid_gap": null,
            "grid_row": null,
            "grid_template_areas": null,
            "grid_template_columns": null,
            "grid_template_rows": null,
            "height": null,
            "justify_content": null,
            "justify_items": null,
            "left": null,
            "margin": null,
            "max_height": null,
            "max_width": null,
            "min_height": null,
            "min_width": null,
            "object_fit": null,
            "object_position": null,
            "order": null,
            "overflow": null,
            "overflow_x": null,
            "overflow_y": null,
            "padding": null,
            "right": null,
            "top": null,
            "visibility": null,
            "width": null
          }
        },
        "25ea4bf60611415e8308378375d13310": {
          "model_module": "@jupyter-widgets/base",
          "model_name": "LayoutModel",
          "model_module_version": "1.2.0",
          "state": {
            "_model_module": "@jupyter-widgets/base",
            "_model_module_version": "1.2.0",
            "_model_name": "LayoutModel",
            "_view_count": null,
            "_view_module": "@jupyter-widgets/base",
            "_view_module_version": "1.2.0",
            "_view_name": "LayoutView",
            "align_content": null,
            "align_items": null,
            "align_self": null,
            "border": null,
            "bottom": null,
            "display": null,
            "flex": null,
            "flex_flow": null,
            "grid_area": null,
            "grid_auto_columns": null,
            "grid_auto_flow": null,
            "grid_auto_rows": null,
            "grid_column": null,
            "grid_gap": null,
            "grid_row": null,
            "grid_template_areas": null,
            "grid_template_columns": null,
            "grid_template_rows": null,
            "height": null,
            "justify_content": null,
            "justify_items": null,
            "left": null,
            "margin": null,
            "max_height": null,
            "max_width": null,
            "min_height": null,
            "min_width": null,
            "object_fit": null,
            "object_position": null,
            "order": null,
            "overflow": null,
            "overflow_x": null,
            "overflow_y": null,
            "padding": null,
            "right": null,
            "top": null,
            "visibility": null,
            "width": null
          }
        },
        "aa33efb53a8f486dbc51b31cb8e65f98": {
          "model_module": "@jupyter-widgets/controls",
          "model_name": "DescriptionStyleModel",
          "model_module_version": "1.5.0",
          "state": {
            "_model_module": "@jupyter-widgets/controls",
            "_model_module_version": "1.5.0",
            "_model_name": "DescriptionStyleModel",
            "_view_count": null,
            "_view_module": "@jupyter-widgets/base",
            "_view_module_version": "1.2.0",
            "_view_name": "StyleView",
            "description_width": ""
          }
        },
        "04ebf0c06dd143e1a27318cf79fd82fb": {
          "model_module": "@jupyter-widgets/base",
          "model_name": "LayoutModel",
          "model_module_version": "1.2.0",
          "state": {
            "_model_module": "@jupyter-widgets/base",
            "_model_module_version": "1.2.0",
            "_model_name": "LayoutModel",
            "_view_count": null,
            "_view_module": "@jupyter-widgets/base",
            "_view_module_version": "1.2.0",
            "_view_name": "LayoutView",
            "align_content": null,
            "align_items": null,
            "align_self": null,
            "border": null,
            "bottom": null,
            "display": null,
            "flex": null,
            "flex_flow": null,
            "grid_area": null,
            "grid_auto_columns": null,
            "grid_auto_flow": null,
            "grid_auto_rows": null,
            "grid_column": null,
            "grid_gap": null,
            "grid_row": null,
            "grid_template_areas": null,
            "grid_template_columns": null,
            "grid_template_rows": null,
            "height": null,
            "justify_content": null,
            "justify_items": null,
            "left": null,
            "margin": null,
            "max_height": null,
            "max_width": null,
            "min_height": null,
            "min_width": null,
            "object_fit": null,
            "object_position": null,
            "order": null,
            "overflow": null,
            "overflow_x": null,
            "overflow_y": null,
            "padding": null,
            "right": null,
            "top": null,
            "visibility": null,
            "width": null
          }
        },
        "bdd5bb68df4049cbbfb5af3494a8d280": {
          "model_module": "@jupyter-widgets/controls",
          "model_name": "ProgressStyleModel",
          "model_module_version": "1.5.0",
          "state": {
            "_model_module": "@jupyter-widgets/controls",
            "_model_module_version": "1.5.0",
            "_model_name": "ProgressStyleModel",
            "_view_count": null,
            "_view_module": "@jupyter-widgets/base",
            "_view_module_version": "1.2.0",
            "_view_name": "StyleView",
            "bar_color": null,
            "description_width": ""
          }
        },
        "fd552d240bfc4c53aaa504548f73eb41": {
          "model_module": "@jupyter-widgets/base",
          "model_name": "LayoutModel",
          "model_module_version": "1.2.0",
          "state": {
            "_model_module": "@jupyter-widgets/base",
            "_model_module_version": "1.2.0",
            "_model_name": "LayoutModel",
            "_view_count": null,
            "_view_module": "@jupyter-widgets/base",
            "_view_module_version": "1.2.0",
            "_view_name": "LayoutView",
            "align_content": null,
            "align_items": null,
            "align_self": null,
            "border": null,
            "bottom": null,
            "display": null,
            "flex": null,
            "flex_flow": null,
            "grid_area": null,
            "grid_auto_columns": null,
            "grid_auto_flow": null,
            "grid_auto_rows": null,
            "grid_column": null,
            "grid_gap": null,
            "grid_row": null,
            "grid_template_areas": null,
            "grid_template_columns": null,
            "grid_template_rows": null,
            "height": null,
            "justify_content": null,
            "justify_items": null,
            "left": null,
            "margin": null,
            "max_height": null,
            "max_width": null,
            "min_height": null,
            "min_width": null,
            "object_fit": null,
            "object_position": null,
            "order": null,
            "overflow": null,
            "overflow_x": null,
            "overflow_y": null,
            "padding": null,
            "right": null,
            "top": null,
            "visibility": null,
            "width": null
          }
        },
        "202237febf5d4d36b13810d01f33c3d4": {
          "model_module": "@jupyter-widgets/controls",
          "model_name": "DescriptionStyleModel",
          "model_module_version": "1.5.0",
          "state": {
            "_model_module": "@jupyter-widgets/controls",
            "_model_module_version": "1.5.0",
            "_model_name": "DescriptionStyleModel",
            "_view_count": null,
            "_view_module": "@jupyter-widgets/base",
            "_view_module_version": "1.2.0",
            "_view_name": "StyleView",
            "description_width": ""
          }
        }
      }
    }
  },
  "nbformat": 4,
  "nbformat_minor": 0
}